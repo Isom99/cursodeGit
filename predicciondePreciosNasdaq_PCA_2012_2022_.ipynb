{
  "nbformat": 4,
  "nbformat_minor": 0,
  "metadata": {
    "colab": {
      "provenance": [],
      "collapsed_sections": [],
      "authorship_tag": "ABX9TyNQLSGxLLxenbtd229Nvg7T",
      "include_colab_link": true
    },
    "kernelspec": {
      "name": "python3",
      "display_name": "Python 3"
    },
    "language_info": {
      "name": "python"
    }
  },
  "cells": [
    {
      "cell_type": "markdown",
      "metadata": {
        "id": "view-in-github",
        "colab_type": "text"
      },
      "source": [
        "<a href=\"https://colab.research.google.com/github/Isom99/cursodeGit/blob/master/predicciondePreciosNasdaq_PCA_2012_2022_.ipynb\" target=\"_parent\"><img src=\"https://colab.research.google.com/assets/colab-badge.svg\" alt=\"Open In Colab\"/></a>"
      ]
    },
    {
      "cell_type": "markdown",
      "source": [
        "##**Carga de los datos**"
      ],
      "metadata": {
        "id": "hwe5O9Gh1RJS"
      }
    },
    {
      "cell_type": "code",
      "source": [
        "#Importamos las librerías que necesitamos\n",
        "import pandas as pd\n",
        "import sklearn\n",
        "import matplotlib.pyplot as plt\n",
        "from sklearn.decomposition import PCA\n",
        "from sklearn.decomposition import IncrementalPCA\n",
        "from sklearn.preprocessing import StandardScaler\n",
        "\n",
        "\n",
        "from sklearn.model_selection import train_test_split\n",
        "from sklearn.linear_model import LinearRegression\n",
        "from sklearn.metrics import mean_squared_error\n",
        "import numpy as np"
      ],
      "metadata": {
        "id": "YvIyh9NNpR50"
      },
      "execution_count": null,
      "outputs": []
    },
    {
      "cell_type": "code",
      "source": [
        "#Conectamos colab con google drive\n",
        "from google.colab import drive\n",
        "drive.mount('/content/drive')"
      ],
      "metadata": {
        "colab": {
          "base_uri": "https://localhost:8080/"
        },
        "id": "Tb7Tp53Kpnpa",
        "outputId": "b6e23be1-af81-4c29-986e-9d58abad53af"
      },
      "execution_count": null,
      "outputs": [
        {
          "output_type": "stream",
          "name": "stdout",
          "text": [
            "Drive already mounted at /content/drive; to attempt to forcibly remount, call drive.mount(\"/content/drive\", force_remount=True).\n"
          ]
        }
      ]
    },
    {
      "cell_type": "code",
      "source": [
        "#Bajamos lo archivos de datos\n",
        "dset_base=pd.read_csv('/content/drive/My Drive/Nasdaq/Datos/Nasdaq_2012_2022.csv')\n",
        "dset_predict=pd.read_csv('/content/drive/My Drive/Nasdaq/Datos/Nasdaq_062922_081822.csv')\n",
        "#dset_predicciones=pd.read_csv('/content/drive/My Drive/Colab Notebooks/AnalisisEUESD/bd/EURUSDX_para_predicciones1.csv')"
      ],
      "metadata": {
        "id": "J5K5Zo-qpuBX"
      },
      "execution_count": null,
      "outputs": []
    },
    {
      "cell_type": "code",
      "source": [
        "#Seleccionamos las columnas con las que vamos a trabajar\n",
        "#encabezado=['Open','High','Low','Close', 'Volume','Close_tom']\n",
        "#ds_train=dset_base[encabezado]\n",
        "dset_base"
      ],
      "metadata": {
        "colab": {
          "base_uri": "https://localhost:8080/",
          "height": 423
        },
        "id": "xalMk-5mzcQ3",
        "outputId": "b50b75ff-41fa-46ac-ac03-bc5c63ac7999"
      },
      "execution_count": null,
      "outputs": [
        {
          "output_type": "execute_result",
          "data": {
            "text/plain": [
              "           Date          Open          High           Low         Close  \\\n",
              "0      7/2/2012   2938.409912   2951.229980   2925.709961   2951.229980   \n",
              "1      7/3/2012   2950.810059   2976.080078   2948.399902   2976.080078   \n",
              "2      7/5/2012   2970.370117   2987.939941   2958.300049   2976.120117   \n",
              "3      7/6/2012   2955.199951   2957.500000   2921.370117   2937.330078   \n",
              "4      7/9/2012   2934.489990   2942.989990   2919.040039   2931.770020   \n",
              "...         ...           ...           ...           ...           ...   \n",
              "2509  6/22/2022  10941.950200  11216.769530  10938.059570  11053.080080   \n",
              "2510  6/23/2022  11137.679690  11260.269530  11046.280270  11232.190430   \n",
              "2511  6/24/2022  11351.309570  11613.230470  11337.780270  11607.620120   \n",
              "2512  6/27/2022  11661.019530  11677.490230  11487.070310  11524.549810   \n",
              "2513  6/28/2022  11542.240230  11635.849610  11177.679690  11181.540040   \n",
              "\n",
              "          Volume     Close_tom  Mov  \n",
              "0     1845240000   2976.080078    1  \n",
              "1     1009330000   2976.120117    1  \n",
              "2     1423990000   2937.330078    1  \n",
              "3     1437420000   2931.770020    0  \n",
              "4     1455500000   2902.330078    0  \n",
              "...          ...           ...  ...  \n",
              "2509  5215100000  11232.190430    0  \n",
              "2510  5238210000  11607.620120    1  \n",
              "2511  9438810000  11524.549810    1  \n",
              "2512  5017930000  11181.540040    0  \n",
              "2513  5397910000  11177.889650    0  \n",
              "\n",
              "[2514 rows x 8 columns]"
            ],
            "text/html": [
              "\n",
              "  <div id=\"df-80d5b7af-e572-46dc-8a26-03b71c470e1c\">\n",
              "    <div class=\"colab-df-container\">\n",
              "      <div>\n",
              "<style scoped>\n",
              "    .dataframe tbody tr th:only-of-type {\n",
              "        vertical-align: middle;\n",
              "    }\n",
              "\n",
              "    .dataframe tbody tr th {\n",
              "        vertical-align: top;\n",
              "    }\n",
              "\n",
              "    .dataframe thead th {\n",
              "        text-align: right;\n",
              "    }\n",
              "</style>\n",
              "<table border=\"1\" class=\"dataframe\">\n",
              "  <thead>\n",
              "    <tr style=\"text-align: right;\">\n",
              "      <th></th>\n",
              "      <th>Date</th>\n",
              "      <th>Open</th>\n",
              "      <th>High</th>\n",
              "      <th>Low</th>\n",
              "      <th>Close</th>\n",
              "      <th>Volume</th>\n",
              "      <th>Close_tom</th>\n",
              "      <th>Mov</th>\n",
              "    </tr>\n",
              "  </thead>\n",
              "  <tbody>\n",
              "    <tr>\n",
              "      <th>0</th>\n",
              "      <td>7/2/2012</td>\n",
              "      <td>2938.409912</td>\n",
              "      <td>2951.229980</td>\n",
              "      <td>2925.709961</td>\n",
              "      <td>2951.229980</td>\n",
              "      <td>1845240000</td>\n",
              "      <td>2976.080078</td>\n",
              "      <td>1</td>\n",
              "    </tr>\n",
              "    <tr>\n",
              "      <th>1</th>\n",
              "      <td>7/3/2012</td>\n",
              "      <td>2950.810059</td>\n",
              "      <td>2976.080078</td>\n",
              "      <td>2948.399902</td>\n",
              "      <td>2976.080078</td>\n",
              "      <td>1009330000</td>\n",
              "      <td>2976.120117</td>\n",
              "      <td>1</td>\n",
              "    </tr>\n",
              "    <tr>\n",
              "      <th>2</th>\n",
              "      <td>7/5/2012</td>\n",
              "      <td>2970.370117</td>\n",
              "      <td>2987.939941</td>\n",
              "      <td>2958.300049</td>\n",
              "      <td>2976.120117</td>\n",
              "      <td>1423990000</td>\n",
              "      <td>2937.330078</td>\n",
              "      <td>1</td>\n",
              "    </tr>\n",
              "    <tr>\n",
              "      <th>3</th>\n",
              "      <td>7/6/2012</td>\n",
              "      <td>2955.199951</td>\n",
              "      <td>2957.500000</td>\n",
              "      <td>2921.370117</td>\n",
              "      <td>2937.330078</td>\n",
              "      <td>1437420000</td>\n",
              "      <td>2931.770020</td>\n",
              "      <td>0</td>\n",
              "    </tr>\n",
              "    <tr>\n",
              "      <th>4</th>\n",
              "      <td>7/9/2012</td>\n",
              "      <td>2934.489990</td>\n",
              "      <td>2942.989990</td>\n",
              "      <td>2919.040039</td>\n",
              "      <td>2931.770020</td>\n",
              "      <td>1455500000</td>\n",
              "      <td>2902.330078</td>\n",
              "      <td>0</td>\n",
              "    </tr>\n",
              "    <tr>\n",
              "      <th>...</th>\n",
              "      <td>...</td>\n",
              "      <td>...</td>\n",
              "      <td>...</td>\n",
              "      <td>...</td>\n",
              "      <td>...</td>\n",
              "      <td>...</td>\n",
              "      <td>...</td>\n",
              "      <td>...</td>\n",
              "    </tr>\n",
              "    <tr>\n",
              "      <th>2509</th>\n",
              "      <td>6/22/2022</td>\n",
              "      <td>10941.950200</td>\n",
              "      <td>11216.769530</td>\n",
              "      <td>10938.059570</td>\n",
              "      <td>11053.080080</td>\n",
              "      <td>5215100000</td>\n",
              "      <td>11232.190430</td>\n",
              "      <td>0</td>\n",
              "    </tr>\n",
              "    <tr>\n",
              "      <th>2510</th>\n",
              "      <td>6/23/2022</td>\n",
              "      <td>11137.679690</td>\n",
              "      <td>11260.269530</td>\n",
              "      <td>11046.280270</td>\n",
              "      <td>11232.190430</td>\n",
              "      <td>5238210000</td>\n",
              "      <td>11607.620120</td>\n",
              "      <td>1</td>\n",
              "    </tr>\n",
              "    <tr>\n",
              "      <th>2511</th>\n",
              "      <td>6/24/2022</td>\n",
              "      <td>11351.309570</td>\n",
              "      <td>11613.230470</td>\n",
              "      <td>11337.780270</td>\n",
              "      <td>11607.620120</td>\n",
              "      <td>9438810000</td>\n",
              "      <td>11524.549810</td>\n",
              "      <td>1</td>\n",
              "    </tr>\n",
              "    <tr>\n",
              "      <th>2512</th>\n",
              "      <td>6/27/2022</td>\n",
              "      <td>11661.019530</td>\n",
              "      <td>11677.490230</td>\n",
              "      <td>11487.070310</td>\n",
              "      <td>11524.549810</td>\n",
              "      <td>5017930000</td>\n",
              "      <td>11181.540040</td>\n",
              "      <td>0</td>\n",
              "    </tr>\n",
              "    <tr>\n",
              "      <th>2513</th>\n",
              "      <td>6/28/2022</td>\n",
              "      <td>11542.240230</td>\n",
              "      <td>11635.849610</td>\n",
              "      <td>11177.679690</td>\n",
              "      <td>11181.540040</td>\n",
              "      <td>5397910000</td>\n",
              "      <td>11177.889650</td>\n",
              "      <td>0</td>\n",
              "    </tr>\n",
              "  </tbody>\n",
              "</table>\n",
              "<p>2514 rows × 8 columns</p>\n",
              "</div>\n",
              "      <button class=\"colab-df-convert\" onclick=\"convertToInteractive('df-80d5b7af-e572-46dc-8a26-03b71c470e1c')\"\n",
              "              title=\"Convert this dataframe to an interactive table.\"\n",
              "              style=\"display:none;\">\n",
              "        \n",
              "  <svg xmlns=\"http://www.w3.org/2000/svg\" height=\"24px\"viewBox=\"0 0 24 24\"\n",
              "       width=\"24px\">\n",
              "    <path d=\"M0 0h24v24H0V0z\" fill=\"none\"/>\n",
              "    <path d=\"M18.56 5.44l.94 2.06.94-2.06 2.06-.94-2.06-.94-.94-2.06-.94 2.06-2.06.94zm-11 1L8.5 8.5l.94-2.06 2.06-.94-2.06-.94L8.5 2.5l-.94 2.06-2.06.94zm10 10l.94 2.06.94-2.06 2.06-.94-2.06-.94-.94-2.06-.94 2.06-2.06.94z\"/><path d=\"M17.41 7.96l-1.37-1.37c-.4-.4-.92-.59-1.43-.59-.52 0-1.04.2-1.43.59L10.3 9.45l-7.72 7.72c-.78.78-.78 2.05 0 2.83L4 21.41c.39.39.9.59 1.41.59.51 0 1.02-.2 1.41-.59l7.78-7.78 2.81-2.81c.8-.78.8-2.07 0-2.86zM5.41 20L4 18.59l7.72-7.72 1.47 1.35L5.41 20z\"/>\n",
              "  </svg>\n",
              "      </button>\n",
              "      \n",
              "  <style>\n",
              "    .colab-df-container {\n",
              "      display:flex;\n",
              "      flex-wrap:wrap;\n",
              "      gap: 12px;\n",
              "    }\n",
              "\n",
              "    .colab-df-convert {\n",
              "      background-color: #E8F0FE;\n",
              "      border: none;\n",
              "      border-radius: 50%;\n",
              "      cursor: pointer;\n",
              "      display: none;\n",
              "      fill: #1967D2;\n",
              "      height: 32px;\n",
              "      padding: 0 0 0 0;\n",
              "      width: 32px;\n",
              "    }\n",
              "\n",
              "    .colab-df-convert:hover {\n",
              "      background-color: #E2EBFA;\n",
              "      box-shadow: 0px 1px 2px rgba(60, 64, 67, 0.3), 0px 1px 3px 1px rgba(60, 64, 67, 0.15);\n",
              "      fill: #174EA6;\n",
              "    }\n",
              "\n",
              "    [theme=dark] .colab-df-convert {\n",
              "      background-color: #3B4455;\n",
              "      fill: #D2E3FC;\n",
              "    }\n",
              "\n",
              "    [theme=dark] .colab-df-convert:hover {\n",
              "      background-color: #434B5C;\n",
              "      box-shadow: 0px 1px 3px 1px rgba(0, 0, 0, 0.15);\n",
              "      filter: drop-shadow(0px 1px 2px rgba(0, 0, 0, 0.3));\n",
              "      fill: #FFFFFF;\n",
              "    }\n",
              "  </style>\n",
              "\n",
              "      <script>\n",
              "        const buttonEl =\n",
              "          document.querySelector('#df-80d5b7af-e572-46dc-8a26-03b71c470e1c button.colab-df-convert');\n",
              "        buttonEl.style.display =\n",
              "          google.colab.kernel.accessAllowed ? 'block' : 'none';\n",
              "\n",
              "        async function convertToInteractive(key) {\n",
              "          const element = document.querySelector('#df-80d5b7af-e572-46dc-8a26-03b71c470e1c');\n",
              "          const dataTable =\n",
              "            await google.colab.kernel.invokeFunction('convertToInteractive',\n",
              "                                                     [key], {});\n",
              "          if (!dataTable) return;\n",
              "\n",
              "          const docLinkHtml = 'Like what you see? Visit the ' +\n",
              "            '<a target=\"_blank\" href=https://colab.research.google.com/notebooks/data_table.ipynb>data table notebook</a>'\n",
              "            + ' to learn more about interactive tables.';\n",
              "          element.innerHTML = '';\n",
              "          dataTable['output_type'] = 'display_data';\n",
              "          await google.colab.output.renderOutput(dataTable, element);\n",
              "          const docLink = document.createElement('div');\n",
              "          docLink.innerHTML = docLinkHtml;\n",
              "          element.appendChild(docLink);\n",
              "        }\n",
              "      </script>\n",
              "    </div>\n",
              "  </div>\n",
              "  "
            ]
          },
          "metadata": {},
          "execution_count": 92
        }
      ]
    },
    {
      "cell_type": "code",
      "source": [
        "#Eliminamos la columna volumen\n",
        "dt_features=dset_base.drop(dset_base.columns[[0,5,6,7]], axis='columns')\n",
        "dt_features"
      ],
      "metadata": {
        "colab": {
          "base_uri": "https://localhost:8080/",
          "height": 423
        },
        "id": "lZoW7Uio9SRX",
        "outputId": "ae1aacec-8c79-4c0b-e2b8-d31bca961a40"
      },
      "execution_count": null,
      "outputs": [
        {
          "output_type": "execute_result",
          "data": {
            "text/plain": [
              "              Open          High           Low         Close\n",
              "0      2938.409912   2951.229980   2925.709961   2951.229980\n",
              "1      2950.810059   2976.080078   2948.399902   2976.080078\n",
              "2      2970.370117   2987.939941   2958.300049   2976.120117\n",
              "3      2955.199951   2957.500000   2921.370117   2937.330078\n",
              "4      2934.489990   2942.989990   2919.040039   2931.770020\n",
              "...            ...           ...           ...           ...\n",
              "2509  10941.950200  11216.769530  10938.059570  11053.080080\n",
              "2510  11137.679690  11260.269530  11046.280270  11232.190430\n",
              "2511  11351.309570  11613.230470  11337.780270  11607.620120\n",
              "2512  11661.019530  11677.490230  11487.070310  11524.549810\n",
              "2513  11542.240230  11635.849610  11177.679690  11181.540040\n",
              "\n",
              "[2514 rows x 4 columns]"
            ],
            "text/html": [
              "\n",
              "  <div id=\"df-2ca2c99d-a714-49bf-b162-e18956ef7847\">\n",
              "    <div class=\"colab-df-container\">\n",
              "      <div>\n",
              "<style scoped>\n",
              "    .dataframe tbody tr th:only-of-type {\n",
              "        vertical-align: middle;\n",
              "    }\n",
              "\n",
              "    .dataframe tbody tr th {\n",
              "        vertical-align: top;\n",
              "    }\n",
              "\n",
              "    .dataframe thead th {\n",
              "        text-align: right;\n",
              "    }\n",
              "</style>\n",
              "<table border=\"1\" class=\"dataframe\">\n",
              "  <thead>\n",
              "    <tr style=\"text-align: right;\">\n",
              "      <th></th>\n",
              "      <th>Open</th>\n",
              "      <th>High</th>\n",
              "      <th>Low</th>\n",
              "      <th>Close</th>\n",
              "    </tr>\n",
              "  </thead>\n",
              "  <tbody>\n",
              "    <tr>\n",
              "      <th>0</th>\n",
              "      <td>2938.409912</td>\n",
              "      <td>2951.229980</td>\n",
              "      <td>2925.709961</td>\n",
              "      <td>2951.229980</td>\n",
              "    </tr>\n",
              "    <tr>\n",
              "      <th>1</th>\n",
              "      <td>2950.810059</td>\n",
              "      <td>2976.080078</td>\n",
              "      <td>2948.399902</td>\n",
              "      <td>2976.080078</td>\n",
              "    </tr>\n",
              "    <tr>\n",
              "      <th>2</th>\n",
              "      <td>2970.370117</td>\n",
              "      <td>2987.939941</td>\n",
              "      <td>2958.300049</td>\n",
              "      <td>2976.120117</td>\n",
              "    </tr>\n",
              "    <tr>\n",
              "      <th>3</th>\n",
              "      <td>2955.199951</td>\n",
              "      <td>2957.500000</td>\n",
              "      <td>2921.370117</td>\n",
              "      <td>2937.330078</td>\n",
              "    </tr>\n",
              "    <tr>\n",
              "      <th>4</th>\n",
              "      <td>2934.489990</td>\n",
              "      <td>2942.989990</td>\n",
              "      <td>2919.040039</td>\n",
              "      <td>2931.770020</td>\n",
              "    </tr>\n",
              "    <tr>\n",
              "      <th>...</th>\n",
              "      <td>...</td>\n",
              "      <td>...</td>\n",
              "      <td>...</td>\n",
              "      <td>...</td>\n",
              "    </tr>\n",
              "    <tr>\n",
              "      <th>2509</th>\n",
              "      <td>10941.950200</td>\n",
              "      <td>11216.769530</td>\n",
              "      <td>10938.059570</td>\n",
              "      <td>11053.080080</td>\n",
              "    </tr>\n",
              "    <tr>\n",
              "      <th>2510</th>\n",
              "      <td>11137.679690</td>\n",
              "      <td>11260.269530</td>\n",
              "      <td>11046.280270</td>\n",
              "      <td>11232.190430</td>\n",
              "    </tr>\n",
              "    <tr>\n",
              "      <th>2511</th>\n",
              "      <td>11351.309570</td>\n",
              "      <td>11613.230470</td>\n",
              "      <td>11337.780270</td>\n",
              "      <td>11607.620120</td>\n",
              "    </tr>\n",
              "    <tr>\n",
              "      <th>2512</th>\n",
              "      <td>11661.019530</td>\n",
              "      <td>11677.490230</td>\n",
              "      <td>11487.070310</td>\n",
              "      <td>11524.549810</td>\n",
              "    </tr>\n",
              "    <tr>\n",
              "      <th>2513</th>\n",
              "      <td>11542.240230</td>\n",
              "      <td>11635.849610</td>\n",
              "      <td>11177.679690</td>\n",
              "      <td>11181.540040</td>\n",
              "    </tr>\n",
              "  </tbody>\n",
              "</table>\n",
              "<p>2514 rows × 4 columns</p>\n",
              "</div>\n",
              "      <button class=\"colab-df-convert\" onclick=\"convertToInteractive('df-2ca2c99d-a714-49bf-b162-e18956ef7847')\"\n",
              "              title=\"Convert this dataframe to an interactive table.\"\n",
              "              style=\"display:none;\">\n",
              "        \n",
              "  <svg xmlns=\"http://www.w3.org/2000/svg\" height=\"24px\"viewBox=\"0 0 24 24\"\n",
              "       width=\"24px\">\n",
              "    <path d=\"M0 0h24v24H0V0z\" fill=\"none\"/>\n",
              "    <path d=\"M18.56 5.44l.94 2.06.94-2.06 2.06-.94-2.06-.94-.94-2.06-.94 2.06-2.06.94zm-11 1L8.5 8.5l.94-2.06 2.06-.94-2.06-.94L8.5 2.5l-.94 2.06-2.06.94zm10 10l.94 2.06.94-2.06 2.06-.94-2.06-.94-.94-2.06-.94 2.06-2.06.94z\"/><path d=\"M17.41 7.96l-1.37-1.37c-.4-.4-.92-.59-1.43-.59-.52 0-1.04.2-1.43.59L10.3 9.45l-7.72 7.72c-.78.78-.78 2.05 0 2.83L4 21.41c.39.39.9.59 1.41.59.51 0 1.02-.2 1.41-.59l7.78-7.78 2.81-2.81c.8-.78.8-2.07 0-2.86zM5.41 20L4 18.59l7.72-7.72 1.47 1.35L5.41 20z\"/>\n",
              "  </svg>\n",
              "      </button>\n",
              "      \n",
              "  <style>\n",
              "    .colab-df-container {\n",
              "      display:flex;\n",
              "      flex-wrap:wrap;\n",
              "      gap: 12px;\n",
              "    }\n",
              "\n",
              "    .colab-df-convert {\n",
              "      background-color: #E8F0FE;\n",
              "      border: none;\n",
              "      border-radius: 50%;\n",
              "      cursor: pointer;\n",
              "      display: none;\n",
              "      fill: #1967D2;\n",
              "      height: 32px;\n",
              "      padding: 0 0 0 0;\n",
              "      width: 32px;\n",
              "    }\n",
              "\n",
              "    .colab-df-convert:hover {\n",
              "      background-color: #E2EBFA;\n",
              "      box-shadow: 0px 1px 2px rgba(60, 64, 67, 0.3), 0px 1px 3px 1px rgba(60, 64, 67, 0.15);\n",
              "      fill: #174EA6;\n",
              "    }\n",
              "\n",
              "    [theme=dark] .colab-df-convert {\n",
              "      background-color: #3B4455;\n",
              "      fill: #D2E3FC;\n",
              "    }\n",
              "\n",
              "    [theme=dark] .colab-df-convert:hover {\n",
              "      background-color: #434B5C;\n",
              "      box-shadow: 0px 1px 3px 1px rgba(0, 0, 0, 0.15);\n",
              "      filter: drop-shadow(0px 1px 2px rgba(0, 0, 0, 0.3));\n",
              "      fill: #FFFFFF;\n",
              "    }\n",
              "  </style>\n",
              "\n",
              "      <script>\n",
              "        const buttonEl =\n",
              "          document.querySelector('#df-2ca2c99d-a714-49bf-b162-e18956ef7847 button.colab-df-convert');\n",
              "        buttonEl.style.display =\n",
              "          google.colab.kernel.accessAllowed ? 'block' : 'none';\n",
              "\n",
              "        async function convertToInteractive(key) {\n",
              "          const element = document.querySelector('#df-2ca2c99d-a714-49bf-b162-e18956ef7847');\n",
              "          const dataTable =\n",
              "            await google.colab.kernel.invokeFunction('convertToInteractive',\n",
              "                                                     [key], {});\n",
              "          if (!dataTable) return;\n",
              "\n",
              "          const docLinkHtml = 'Like what you see? Visit the ' +\n",
              "            '<a target=\"_blank\" href=https://colab.research.google.com/notebooks/data_table.ipynb>data table notebook</a>'\n",
              "            + ' to learn more about interactive tables.';\n",
              "          element.innerHTML = '';\n",
              "          dataTable['output_type'] = 'display_data';\n",
              "          await google.colab.output.renderOutput(dataTable, element);\n",
              "          const docLink = document.createElement('div');\n",
              "          docLink.innerHTML = docLinkHtml;\n",
              "          element.appendChild(docLink);\n",
              "        }\n",
              "      </script>\n",
              "    </div>\n",
              "  </div>\n",
              "  "
            ]
          },
          "metadata": {},
          "execution_count": 146
        }
      ]
    },
    {
      "cell_type": "code",
      "source": [
        "#Definimos la columna target\n",
        "dt_target=dset_base['Close_tom']"
      ],
      "metadata": {
        "id": "1HD9DdGxlsxu"
      },
      "execution_count": null,
      "outputs": []
    },
    {
      "cell_type": "code",
      "source": [
        "dt_target"
      ],
      "metadata": {
        "colab": {
          "base_uri": "https://localhost:8080/"
        },
        "id": "a88SX4JwnQJO",
        "outputId": "be6d63a9-43a5-4653-c1c3-cf99a743835a"
      },
      "execution_count": null,
      "outputs": [
        {
          "output_type": "execute_result",
          "data": {
            "text/plain": [
              "0        2976.080078\n",
              "1        2976.120117\n",
              "2        2937.330078\n",
              "3        2931.770020\n",
              "4        2902.330078\n",
              "            ...     \n",
              "2509    11232.190430\n",
              "2510    11607.620120\n",
              "2511    11524.549810\n",
              "2512    11181.540040\n",
              "2513    11177.889650\n",
              "Name: Close_tom, Length: 2514, dtype: float64"
            ]
          },
          "metadata": {},
          "execution_count": 148
        }
      ]
    },
    {
      "cell_type": "code",
      "source": [
        "#Normalizamos los datos\n",
        "dt_features=StandardScaler().fit_transform(dt_features)\n"
      ],
      "metadata": {
        "id": "X12BRhHQnYLC"
      },
      "execution_count": null,
      "outputs": []
    },
    {
      "cell_type": "code",
      "source": [
        "dt_features"
      ],
      "metadata": {
        "colab": {
          "base_uri": "https://localhost:8080/"
        },
        "id": "6ReWFSkVoT6I",
        "outputId": "26f2eed9-22b0-4d3d-ffc1-0b5304374b0c"
      },
      "execution_count": null,
      "outputs": [
        {
          "output_type": "execute_result",
          "data": {
            "text/plain": [
              "array([[-1.21142606, -1.21088626, -1.21261747, -1.20856216],\n",
              "       [-1.20790385, -1.20388419, -1.2061065 , -1.20149922],\n",
              "       [-1.20234789, -1.2005424 , -1.20326561, -1.20148784],\n",
              "       ...,\n",
              "       [ 1.17822681,  1.22982626,  1.20125953,  1.25177181],\n",
              "       [ 1.26619878,  1.24793288,  1.2440989 ,  1.22816142],\n",
              "       [ 1.23245996,  1.23619971,  1.15531803,  1.1306706 ]])"
            ]
          },
          "metadata": {},
          "execution_count": 150
        }
      ]
    },
    {
      "cell_type": "code",
      "source": [
        "#Verificamos la cantidad de datos con la que contamos\n",
        "dt_features.shape"
      ],
      "metadata": {
        "colab": {
          "base_uri": "https://localhost:8080/"
        },
        "id": "x9MP7rms0BbX",
        "outputId": "baae52d2-c539-4271-d7f4-4753fba56fae"
      },
      "execution_count": null,
      "outputs": [
        {
          "output_type": "execute_result",
          "data": {
            "text/plain": [
              "(2514, 4)"
            ]
          },
          "metadata": {},
          "execution_count": 151
        }
      ]
    },
    {
      "cell_type": "code",
      "source": [
        "#Verificamos los tipos de datos que conforman el dataframe\n",
        "#ds_train.dtypes"
      ],
      "metadata": {
        "id": "TauflcNJ0OIm"
      },
      "execution_count": null,
      "outputs": []
    },
    {
      "cell_type": "markdown",
      "source": [
        "##**Selección de los datos de entrenamiento**"
      ],
      "metadata": {
        "id": "u35vN9O41da6"
      }
    },
    {
      "cell_type": "markdown",
      "source": [
        "**Definimos las variables de entrenamiento y prueba**"
      ],
      "metadata": {
        "id": "LVaSLEVK12Z1"
      }
    },
    {
      "cell_type": "code",
      "source": [
        "X_train, X_test, y_train, y_test = train_test_split(dt_features, dt_target, test_size=0.3, random_state=42)"
      ],
      "metadata": {
        "id": "PdgSudmx1MDv"
      },
      "execution_count": null,
      "outputs": []
    },
    {
      "cell_type": "markdown",
      "source": [
        "##**Vemos la información con la que vamos a entrenar**"
      ],
      "metadata": {
        "id": "qgj20PAo2hBA"
      }
    },
    {
      "cell_type": "code",
      "source": [
        "X_train"
      ],
      "metadata": {
        "colab": {
          "base_uri": "https://localhost:8080/"
        },
        "id": "SpJiaFP-2leJ",
        "outputId": "a62eb51e-07fc-48f7-cf99-dc99cb36bf75"
      },
      "execution_count": null,
      "outputs": [
        {
          "output_type": "execute_result",
          "data": {
            "text/plain": [
              "array([[ 0.60074657,  0.58622704,  0.60188722,  0.58883606],\n",
              "       [-0.01208037, -0.02168284, -0.05452574, -0.05572478],\n",
              "       [-0.57013478, -0.57438212, -0.56481313, -0.56653086],\n",
              "       ...,\n",
              "       [-0.4845431 , -0.49302034, -0.49265275, -0.50160896],\n",
              "       [-0.26695504, -0.26974683, -0.2548856 , -0.26290534],\n",
              "       [-0.58072688, -0.58379054, -0.58377507, -0.59123539]])"
            ]
          },
          "metadata": {},
          "execution_count": 153
        }
      ]
    },
    {
      "cell_type": "code",
      "source": [
        "y_train"
      ],
      "metadata": {
        "colab": {
          "base_uri": "https://localhost:8080/"
        },
        "id": "oeQ0gUuA2obH",
        "outputId": "82988a6d-0009-4537-8c84-9515d117a455"
      },
      "execution_count": null,
      "outputs": [
        {
          "output_type": "execute_result",
          "data": {
            "text/plain": [
              "1905    9298.929688\n",
              "1461    7003.740234\n",
              "764     5218.859863\n",
              "900     4516.950195\n",
              "930     4763.970215\n",
              "           ...     \n",
              "1638    6897.000000\n",
              "1095    5193.490234\n",
              "1130    5432.089844\n",
              "1294    6271.330078\n",
              "860     5037.529785\n",
              "Name: Close_tom, Length: 1759, dtype: float64"
            ]
          },
          "metadata": {},
          "execution_count": 154
        }
      ]
    },
    {
      "cell_type": "code",
      "source": [
        "X_test"
      ],
      "metadata": {
        "colab": {
          "base_uri": "https://localhost:8080/"
        },
        "id": "XnIP6NeFPRF1",
        "outputId": "b681e332-426f-4e0e-cf43-5210c4efcbd5"
      },
      "execution_count": null,
      "outputs": [
        {
          "output_type": "execute_result",
          "data": {
            "text/plain": [
              "array([[-0.71682763, -0.72078544, -0.73434548, -0.7384793 ],\n",
              "       [-0.7135525 , -0.71358332, -0.72988046, -0.72227867],\n",
              "       [-0.67056221, -0.65696124, -0.66558273, -0.65054683],\n",
              "       ...,\n",
              "       [-0.83582305, -0.83808447, -0.83766334, -0.84284835],\n",
              "       [ 0.22440522,  0.21092026,  0.19559486,  0.19216193],\n",
              "       [-0.9740287 , -0.96666005, -0.96914564, -0.962213  ]])"
            ]
          },
          "metadata": {},
          "execution_count": 155
        }
      ]
    },
    {
      "cell_type": "code",
      "source": [
        "X_test.shape"
      ],
      "metadata": {
        "colab": {
          "base_uri": "https://localhost:8080/"
        },
        "id": "cMSwA3tsicbA",
        "outputId": "dd266667-2184-4e98-edc2-4766de4a99f6"
      },
      "execution_count": null,
      "outputs": [
        {
          "output_type": "execute_result",
          "data": {
            "text/plain": [
              "(755, 4)"
            ]
          },
          "metadata": {},
          "execution_count": 156
        }
      ]
    },
    {
      "cell_type": "code",
      "source": [
        "y_test"
      ],
      "metadata": {
        "id": "f8eGAcFvPXKV",
        "colab": {
          "base_uri": "https://localhost:8080/"
        },
        "outputId": "3e30455d-df95-4e52-e4a2-e81a7da911c9"
      },
      "execution_count": null,
      "outputs": [
        {
          "output_type": "execute_result",
          "data": {
            "text/plain": [
              "617     4547.830078\n",
              "927     4748.470215\n",
              "942     4891.799805\n",
              "973     4715.729980\n",
              "1967    8914.709961\n",
              "           ...     \n",
              "1437    7345.290039\n",
              "514     4456.020020\n",
              "409     4267.549805\n",
              "1575    7788.450195\n",
              "313     3815.020020\n",
              "Name: Close_tom, Length: 755, dtype: float64"
            ]
          },
          "metadata": {},
          "execution_count": 157
        }
      ]
    },
    {
      "cell_type": "code",
      "source": [
        "y_test.shape"
      ],
      "metadata": {
        "colab": {
          "base_uri": "https://localhost:8080/"
        },
        "id": "b8gq_Y7xPs7z",
        "outputId": "66cf9f88-4305-48d2-cda7-d8f2f599d1e4"
      },
      "execution_count": null,
      "outputs": [
        {
          "output_type": "execute_result",
          "data": {
            "text/plain": [
              "(755,)"
            ]
          },
          "metadata": {},
          "execution_count": 158
        }
      ]
    },
    {
      "cell_type": "markdown",
      "source": [
        "##**Creamos y entrenamos el modelo**"
      ],
      "metadata": {
        "id": "Ta-j0hfb3H8E"
      }
    },
    {
      "cell_type": "code",
      "source": [
        "pca=PCA(n_components=2)"
      ],
      "metadata": {
        "id": "3KHvjmIbqXYN"
      },
      "execution_count": null,
      "outputs": []
    },
    {
      "cell_type": "code",
      "source": [
        "pca.fit(X_train)"
      ],
      "metadata": {
        "colab": {
          "base_uri": "https://localhost:8080/"
        },
        "id": "mGGILy3cqkH7",
        "outputId": "853ae7c5-2e29-4f42-a8de-fabcc16a0d54"
      },
      "execution_count": null,
      "outputs": [
        {
          "output_type": "execute_result",
          "data": {
            "text/plain": [
              "PCA(n_components=2)"
            ]
          },
          "metadata": {},
          "execution_count": 160
        }
      ]
    },
    {
      "cell_type": "code",
      "source": [
        "ipca=IncrementalPCA(n_components=2, batch_size=10)"
      ],
      "metadata": {
        "id": "3Sf-L6zCq0ao"
      },
      "execution_count": null,
      "outputs": []
    },
    {
      "cell_type": "code",
      "source": [
        "ipca.fit(X_train)"
      ],
      "metadata": {
        "colab": {
          "base_uri": "https://localhost:8080/"
        },
        "id": "i4Zt4ZD5rGvW",
        "outputId": "6f444225-d4fb-4df9-a1f6-cb526cb92764"
      },
      "execution_count": null,
      "outputs": [
        {
          "output_type": "execute_result",
          "data": {
            "text/plain": [
              "IncrementalPCA(batch_size=10, n_components=2)"
            ]
          },
          "metadata": {},
          "execution_count": 162
        }
      ]
    },
    {
      "cell_type": "code",
      "source": [
        "grafico=plt.plot(range(len(pca.explained_variance_)),pca.explained_variance_ratio_)"
      ],
      "metadata": {
        "colab": {
          "base_uri": "https://localhost:8080/",
          "height": 265
        },
        "id": "tiPudmT9rK6t",
        "outputId": "cff3c85a-8e49-494d-dc93-88f2e63687da"
      },
      "execution_count": null,
      "outputs": [
        {
          "output_type": "display_data",
          "data": {
            "text/plain": [
              "<Figure size 432x288 with 1 Axes>"
            ],
            "image/png": "[encoded data removed]"
          },
          "metadata": {
            "needs_background": "light"
          }
        }
      ]
    },
    {
      "cell_type": "code",
      "source": [],
      "metadata": {
        "id": "pn6sWJZNrKkk"
      },
      "execution_count": null,
      "outputs": []
    },
    {
      "cell_type": "code",
      "source": [
        "#Creamos el modelo\n",
        "regressor=LinearRegression()"
      ],
      "metadata": {
        "id": "R7AcWoma3NOi"
      },
      "execution_count": null,
      "outputs": []
    },
    {
      "cell_type": "markdown",
      "source": [
        "**Lo creamos para PCA**"
      ],
      "metadata": {
        "id": "mKONOYpcM0Qs"
      }
    },
    {
      "cell_type": "code",
      "source": [
        "dt_train=pca.transform(X_train)\n",
        "dt_test=pca.transform(X_test)"
      ],
      "metadata": {
        "id": "auM4WuvXvBwg"
      },
      "execution_count": null,
      "outputs": []
    },
    {
      "cell_type": "code",
      "source": [
        "regressor.fit(dt_train,y_train)"
      ],
      "metadata": {
        "colab": {
          "base_uri": "https://localhost:8080/"
        },
        "id": "jU5PwuS9vabN",
        "outputId": "763fdc8b-1c3f-45b8-d90c-3f9b79741c35"
      },
      "execution_count": null,
      "outputs": [
        {
          "output_type": "execute_result",
          "data": {
            "text/plain": [
              "LinearRegression()"
            ]
          },
          "metadata": {},
          "execution_count": 166
        }
      ]
    },
    {
      "cell_type": "code",
      "source": [
        "#Calculamos el score\n",
        "regressor.score(dt_train, y_train)"
      ],
      "metadata": {
        "colab": {
          "base_uri": "https://localhost:8080/"
        },
        "id": "F_kuUEOVx-ro",
        "outputId": "d9058c2c-01cc-4606-cea8-4b4e4ecc4612"
      },
      "execution_count": null,
      "outputs": [
        {
          "output_type": "execute_result",
          "data": {
            "text/plain": [
              "0.9990437644645861"
            ]
          },
          "metadata": {},
          "execution_count": 186
        }
      ]
    },
    {
      "cell_type": "code",
      "source": [
        "regressor.score(dt_test, y_test)"
      ],
      "metadata": {
        "colab": {
          "base_uri": "https://localhost:8080/"
        },
        "id": "7cwLN3lGzFiC",
        "outputId": "95ad86d1-1152-47fb-ac2c-2a67cf9d6164"
      },
      "execution_count": null,
      "outputs": [
        {
          "output_type": "execute_result",
          "data": {
            "text/plain": [
              "0.9988645223654125"
            ]
          },
          "metadata": {},
          "execution_count": 187
        }
      ]
    },
    {
      "cell_type": "code",
      "source": [
        "predict_ytest=regressor.predict(dt_test)"
      ],
      "metadata": {
        "id": "eahWOq2T8bCq"
      },
      "execution_count": null,
      "outputs": []
    },
    {
      "cell_type": "code",
      "source": [
        "predict_ytest"
      ],
      "metadata": {
        "colab": {
          "base_uri": "https://localhost:8080/"
        },
        "id": "9aCoprUO9Sck",
        "outputId": "07f37012-3386-4174-f587-80ab671e277d"
      },
      "execution_count": null,
      "outputs": [
        {
          "output_type": "execute_result",
          "data": {
            "text/plain": [
              "array([ 4605.59512775,  4651.88104581,  4909.00365226,  4778.90036565,\n",
              "        8605.10615936,  5388.00359171,  7011.84901564,  3247.38003779,\n",
              "       10681.91351117,  3794.07542464,  4911.17651269, 14451.03777591,\n",
              "        4277.63545756,  4728.47432406,  7276.73338818,  5498.18620177,\n",
              "        4486.4552105 ,  8594.33991314,  6962.98833468,  5313.27750577,\n",
              "        7437.63427181,  4294.86393524,  4758.1553652 , 10944.98191188,\n",
              "        4771.98102511, 11124.33293426,  6625.18664246, 13402.99524144,\n",
              "        5055.62929141,  4126.33926965,  5879.82305285,  3179.39104015,\n",
              "        7305.31905239,  7085.48372176,  4255.81015463,  5870.5703954 ,\n",
              "        8116.81466003,  3072.55400026,  5201.70823653,  6311.9691128 ,\n",
              "        7841.13420218, 11917.67232381,  7906.85879118,  4748.3890892 ,\n",
              "        4810.95852881, 13651.29461224,  7082.05013962,  3065.50592879,\n",
              "        5446.01891785,  5128.02508819,  4856.37238545, 14838.39294875,\n",
              "        9960.81177755,  4838.36894614,  5063.97413953,  4717.744252  ,\n",
              "        3474.52031836,  6968.15158226, 15988.04801548,  9560.92983401,\n",
              "       15618.74023971,  4723.22676493,  7871.23680578, 15881.12801879,\n",
              "       14199.37574767,  6975.64665539, 10161.89668565,  6398.96544321,\n",
              "        5474.84803318,  7437.46089311,  4459.68596767,  4154.77240241,\n",
              "        4345.53590726,  3448.67687803,  4967.69891962,  3736.05434483,\n",
              "        6060.4730878 ,  7745.40073021,  6160.01706614,  5267.62228824,\n",
              "        3507.70936974, 14142.83017871, 15358.14208929,  7648.24111736,\n",
              "        4022.90684706,  3114.9130122 ,  4236.58849613,  3400.44438154,\n",
              "       12112.67230619, 11102.53897863,  7824.55692327,  4794.81642201,\n",
              "        4338.5680999 , 11719.73339291,  8308.24620499,  5137.21451796,\n",
              "        6392.90980129,  2847.8872898 ,  5030.86369345,  3228.08457602,\n",
              "       11409.11725875,  7561.61865442,  3254.92810872,  5202.28992368,\n",
              "        8695.27001789, 15876.44294208,  8903.92579698, 13368.28345314,\n",
              "        7880.51241527,  5343.37065122, 11333.55137126, 12396.35694364,\n",
              "       14622.53751986, 14659.23310614,  9394.32858787,  5470.47921535,\n",
              "        8101.95031685, 14186.63833765,  4046.23943232,  7541.16348138,\n",
              "        4766.98528008, 10033.48519898,  4735.2589669 , 14771.15646355,\n",
              "        8995.12087488,  4400.58598311,  6784.80451543, 13098.51286915,\n",
              "        8032.96242334,  7855.7892038 , 12640.77046883,  4299.70793744,\n",
              "        4829.16088744, 13653.76529035,  3457.6194868 ,  4655.60763409,\n",
              "       15464.38249357, 15962.0890121 ,  9146.50860809,  7734.74401493,\n",
              "        7331.84802884,  8237.65338008,  4761.14366562,  8038.64719342,\n",
              "        3469.30359567, 13119.99966279,  6747.9694326 ,  5064.29061566,\n",
              "        3249.78899239,  4051.82954173,  8646.25299956,  5544.26082677,\n",
              "        3382.66791509,  5066.58182433,  4456.11601189,  3613.20916685,\n",
              "       15807.34454158,  3228.92231637,  3027.73889321, 11529.16689003,\n",
              "        6721.50854991,  6906.31270518, 11395.0368295 ,  3295.56431789,\n",
              "        7148.12455309,  9003.95908204,  5022.60076584,  5859.32400615,\n",
              "        8026.42555213,  8013.29057922, 13766.34968076,  6446.78046744,\n",
              "        5779.34963477,  6410.24394231, 15868.3901702 ,  5559.41259542,\n",
              "        3259.26209077,  7023.27994141,  3417.38628767, 12241.79054067,\n",
              "        6119.43104432,  4372.18779293,  5062.09843647,  6993.86249975,\n",
              "        4754.93806437, 13923.33610021,  5868.57161652,  7823.73574138,\n",
              "        9932.91100511,  7076.53397521,  5146.55959193, 12583.73038082,\n",
              "        3265.64927952,  4958.50761901,  5134.45043355, 10351.17531822,\n",
              "        9580.31337396,  4359.0260037 ,  9542.42316626,  4948.86408991,\n",
              "        5239.92986634,  9966.75318007,  4641.99623992,  6155.14272261,\n",
              "        2917.55106307,  7994.82831446,  8611.38877383,  9679.82922778,\n",
              "        4725.99769212,  4742.16392825,  7745.7990627 ,  5088.57397572,\n",
              "        4245.95294542, 13829.60324017, 14532.19391189, 13051.7504512 ,\n",
              "        7163.54179466,  6639.2020324 ,  8003.40170172,  7982.07285737,\n",
              "        7418.31785159,  4710.94417684,  5213.29490237, 15070.24550668,\n",
              "       11664.19798497, 14094.52059526,  4062.73625435,  7020.36599601,\n",
              "        5001.72376721,  7075.47451219,  4926.50924242,  3400.79114991,\n",
              "       14822.73953298,  5136.94908574,  4725.00672956,  4847.88113898,\n",
              "        4995.63897864, 11156.99062461,  6347.09540041,  5096.54596398,\n",
              "        4337.35169011,  5261.90909248,  4111.76040693,  8123.91864353,\n",
              "        4909.93358904,  7499.74660804,  4236.48125044,  8169.52360045,\n",
              "       11606.9713301 ,  8121.89397344,  6822.66427769, 11829.44802359,\n",
              "        4105.40692761,  9276.21305698, 15411.22774077,  6703.51483094,\n",
              "        3604.31464468,  6770.6529185 ,  4099.11496495, 15374.86041252,\n",
              "        3440.98102965,  2980.82943089, 13064.18518798,  4975.04569162,\n",
              "        3476.31596072,  5909.15669709,  6372.72283684,  9310.63324465,\n",
              "       14539.02409747,  4942.14720833,  3652.59348333,  4957.11467519,\n",
              "       12108.57782783,  4972.18553106,  5003.914661  ,  4030.74548105,\n",
              "        8901.20513832,  5090.03946361,  4778.18180306,  7178.18423421,\n",
              "        4851.84936043,  5070.5755498 ,  4136.50796181,  6509.02620592,\n",
              "        8083.7914699 ,  3845.36563405,  6972.41761935,  2978.35656301,\n",
              "        8523.07830586,  3621.77055891, 15517.64357561,  4323.99657079,\n",
              "        9471.68441705,  3229.5215518 , 11681.87455108,  5036.44294901,\n",
              "        6039.42368292,  3696.37935639,  5338.69098667,  4689.24027431,\n",
              "        3624.87870743,  3155.70368765,  4268.87241092,  7846.01442875,\n",
              "        5391.82013199,  7704.7148136 ,  4269.71827336,  5015.10198616,\n",
              "        8144.66056077,  7483.2436379 ,  5377.12556667,  6889.37201368,\n",
              "        3411.50158415,  4422.40801386,  4780.48167903,  7771.00660056,\n",
              "        5239.06331178, 14860.74596999,  8129.1182719 ,  3022.74959831,\n",
              "        7961.99320301, 14669.77228117,  4053.21904595, 15262.25189998,\n",
              "        7120.99674622, 13066.40393274,  7965.2062232 ,  8174.20262378,\n",
              "        7574.60938582,  4345.91598636,  4459.82655851,  7905.41648497,\n",
              "       10468.03963341,  3946.82246871,  7512.61419345,  6877.40407219,\n",
              "        8690.96638518, 12481.63176114,  4486.70791934,  6874.03602053,\n",
              "        6266.32792693,  3343.11224053, 12806.95969105, 14655.27699748,\n",
              "        8421.7486112 , 13517.92416845,  4461.58889151,  4376.46410596,\n",
              "        8852.37251457,  6526.04431315,  8831.34919551,  4978.65705458,\n",
              "        9858.96575123,  7960.63285957,  3207.31053352,  3457.54672305,\n",
              "        5182.69109784,  4251.2462314 ,  5107.22282744,  4468.7849193 ,\n",
              "       15696.74372074,  4941.90616532,  3773.13193082, 11483.35156183,\n",
              "       13555.23865542, 13531.93392314,  3068.03757162,  9892.35115884,\n",
              "        5455.12003749,  6447.6746888 ,  6996.30290588, 14327.30441663,\n",
              "        4613.36592631,  3407.45908734,  4058.74474876,  7383.85206417,\n",
              "        4227.3794703 ,  5028.60850677,  5726.01520974, 14524.80614894,\n",
              "        5249.12240549,  7050.70874501,  6304.53906446,  7108.05752713,\n",
              "        7437.23836647,  3682.9572445 ,  6472.68288625, 14564.98819907,\n",
              "        9813.9455091 ,  9627.62559094,  5927.81556107,  3815.63399543,\n",
              "        5274.51737675, 15234.01624803,  4863.98009086,  4379.23692494,\n",
              "       15024.84061874, 15899.2225217 , 15791.14954382,  4563.57528851,\n",
              "        7857.5484994 ,  8159.76602121,  4786.61077329, 13201.699479  ,\n",
              "        4604.54197788,  7782.35895364,  3175.67719178,  6136.68814636,\n",
              "       12768.43902641,  5248.62625191,  5213.07105069, 13402.24272402,\n",
              "        5243.30953612,  5042.51704699,  8206.21850969,  4792.24352474,\n",
              "        3164.51557268,  4123.5205777 ,  8192.32250965,  7528.4865418 ,\n",
              "        6972.17393091, 10229.20649824,  4480.02871574,  7833.5673922 ,\n",
              "        4654.13956316,  4233.65311908,  3112.56567901,  3141.12002977,\n",
              "        7877.03991811, 11071.83926446,  4395.65562557,  3109.79304941,\n",
              "        4973.81373055,  6217.64639316,  4910.78111773, 14645.46621821,\n",
              "        3013.36431933,  7415.58415396,  8172.33713817,  9935.36563604,\n",
              "        5020.52527968,  7969.88414126,  3022.69034647, 14890.35753906,\n",
              "        4501.55972841,  7469.60776567,  4451.58000525,  6911.30592751,\n",
              "        5923.1858369 ,  7452.16524048,  4420.98247218, 13794.23924579,\n",
              "        6807.7660738 ,  4079.02330624,  8064.80497853,  6375.51948869,\n",
              "        7057.12190925,  8590.44491803,  4755.26907154,  4254.96685154,\n",
              "        5872.94855826, 11539.06424462,  7673.89006805, 14289.34984993,\n",
              "        9914.68495445,  7565.52883893,  5153.32409132,  7326.4711936 ,\n",
              "        3487.27437543,  5127.41036808, 13760.1309239 ,  3057.58757052,\n",
              "        5068.7277831 ,  6349.21767693, 15987.97693118,  3064.46432204,\n",
              "        5838.08395118,  3973.84982387, 15078.09855881,  8971.98475073,\n",
              "        6783.26097928,  4281.5525047 ,  5003.84497722,  7760.20777971,\n",
              "        3076.31174664,  4216.56730603,  4933.96800264,  5238.10414334,\n",
              "        3218.66676829,  6374.60817991,  5039.954595  , 11073.11429629,\n",
              "        3124.35106153,  8580.4812722 , 12719.62080895,  7899.3942941 ,\n",
              "        7353.97546481,  5029.32548906,  5002.27790989,  3155.42460883,\n",
              "        7218.54032288,  4378.12576022,  7117.9326246 , 13435.49722979,\n",
              "       14709.58458985,  3583.75629228, 10557.51619051, 14170.91470539,\n",
              "        6974.24734912, 14982.69782411, 13143.24866318,  4969.64756194,\n",
              "        6858.72657741, 10427.28173631,  2969.76581262,  6101.10475608,\n",
              "        7387.03796203,  4237.44714858,  4510.04872148,  6544.33913303,\n",
              "       14988.05453852,  4383.8356828 ,  5231.82136968,  3927.0806997 ,\n",
              "        8258.74608809,  3730.55109146, 12829.8577984 ,  4481.32373984,\n",
              "        4847.25200488,  8219.99763126,  5894.10314139,  3505.71230198,\n",
              "        4554.65480176, 11368.25410813, 13618.63096365,  3020.56437713,\n",
              "        6959.7700518 ,  3608.41012512, 12110.55150531,  3601.96417233,\n",
              "        8060.25935012, 13857.75979475,  4307.13299922,  4099.93569809,\n",
              "        5028.82275765, 10921.12600381, 13719.12673   ,  7398.59646416,\n",
              "        7159.15704079, 11070.90905132,  4713.35509338,  3675.77586531,\n",
              "       11764.55048844,  5130.99374639,  7772.41012957,  2953.22665365,\n",
              "        6104.01787627,  7642.09425243,  7880.58781156, 11974.53575468,\n",
              "        5226.06242946,  8347.30736194,  8149.05820755,  8119.35003469,\n",
              "        3501.79396674,  4672.98903795,  5925.95943677,  3752.20448674,\n",
              "        8213.70939463,  4739.99305113, 15457.96728584, 13780.34447544,\n",
              "        6229.61996312,  7737.03844626,  8165.2003369 ,  4712.71257778,\n",
              "        7259.91208536,  5846.81003219,  7869.48766591,  5214.66287747,\n",
              "        4772.32131085,  5498.19171212,  3295.63993085,  3266.39663218,\n",
              "       12864.9583967 ,  4705.00438293,  7562.63765693,  6913.7724369 ,\n",
              "        5296.25481558,  3104.09599484,  3858.7473522 ,  8125.75585568,\n",
              "        5148.97761   ,  7699.26821856,  3765.91628308,  4174.97333417,\n",
              "       14661.40133114, 14479.0322689 ,  5169.76705216,  3227.24640607,\n",
              "        4257.93333554,  9371.32482291,  8289.78177321,  5117.30518327,\n",
              "        4491.95593455,  3273.6562438 ,  4884.17043197, 10730.65586811,\n",
              "        7539.39248782,  7149.83367085,  7127.84910647,  7360.59617099,\n",
              "        7553.80404584,  4314.17734449, 12233.5725622 ,  8166.66285975,\n",
              "       14558.56375339, 11330.52513816, 15777.65582831,  7688.61756059,\n",
              "        7333.17600859,  3053.10755644,  7629.79669036,  3612.75554316,\n",
              "       15292.10074372, 10420.66360894,  8583.29426429,  4945.18473653,\n",
              "        5114.30409133, 15144.416201  ,  4040.44894715,  6958.29385702,\n",
              "        4569.64823865,  6427.47528386,  6228.08035799, 13901.50853829,\n",
              "        6461.77082901,  3298.29869499,  8117.05756339,  3020.09418682,\n",
              "        3600.00630072,  4199.59565743,  6624.17403087,  8128.64173131,\n",
              "        3656.40431492,  9292.18649172,  9738.78692589,  4065.642393  ,\n",
              "       13019.14116868,  4801.100785  ,  4881.04939712,  4726.36977086,\n",
              "        7328.67201848, 13203.47923205,  3644.21082824,  4462.72107586,\n",
              "        9341.67353665,  4768.2871644 ,  4311.93417872,  8343.22475049,\n",
              "        6223.74340165,  7157.69453218,  5077.20317465,  3137.64948589,\n",
              "        7586.5606606 , 10574.85291001,  6362.95798387, 14772.86665169,\n",
              "        3447.81074027,  7250.64781317,  5135.28620274,  6043.01036554,\n",
              "        4779.36760707, 12478.79402136,  8130.6510011 ,  7840.61476858,\n",
              "        5190.29649103,  4166.24339646,  8752.829177  ,  7933.14000968,\n",
              "        6323.01386566,  3710.6134893 ,  4678.63928058,  7905.92014748,\n",
              "        2969.37167497,  9750.54496805, 13376.48259652,  6274.97612302,\n",
              "        4411.3649373 ,  6198.99832287,  7308.64989707,  6222.08770423,\n",
              "        4657.33280236, 13877.4043873 ,  3241.94644376,  7241.23496963,\n",
              "       13548.02290471,  7576.81957763,  4770.81794827,  8197.15291153,\n",
              "        4434.70475594,  6250.85777438,  7018.15562117,  8295.95588077,\n",
              "       11010.32344355,  4734.9138764 ,  6950.96054371,  5162.18985025,\n",
              "        3199.86464373,  8561.80477458, 13288.47893851,  5485.81095298,\n",
              "        4524.76822858, 14911.21142964,  2971.50525912,  3168.12196689,\n",
              "        3947.62309982,  7845.67777957, 14789.88104053,  7970.7744188 ,\n",
              "       10481.81923334, 13355.00424746,  6465.047792  ,  4732.06973203,\n",
              "        6422.92788614,  3788.35472684,  3998.85154708,  4600.2970576 ,\n",
              "        6918.99400008,  6824.74437072,  5613.69429333,  3783.60125792,\n",
              "        3663.09368921,  4958.15401751,  7461.69613184,  4656.55496516,\n",
              "       11625.56880819,  8397.26993369,  6183.31222272,  7222.87431033,\n",
              "        6305.33139903,  6852.31012929,  7022.64400009, 10504.06396456,\n",
              "        7250.36174931,  7350.24844309,  7675.4248139 ,  5847.42966965,\n",
              "        2930.32074302,  4860.71511604,  7376.58929657,  4431.06867928,\n",
              "        4246.80737492,  7870.78728372,  3819.6902705 ])"
            ]
          },
          "metadata": {},
          "execution_count": 188
        }
      ]
    },
    {
      "cell_type": "code",
      "source": [
        "predict_ytest.shape"
      ],
      "metadata": {
        "colab": {
          "base_uri": "https://localhost:8080/"
        },
        "id": "13fgBdCh_6df",
        "outputId": "616ad0d5-47a7-418f-941d-82bec66c4794"
      },
      "execution_count": null,
      "outputs": [
        {
          "output_type": "execute_result",
          "data": {
            "text/plain": [
              "(755,)"
            ]
          },
          "metadata": {},
          "execution_count": 171
        }
      ]
    },
    {
      "cell_type": "code",
      "source": [
        "regressor.score(dt_test, predict_ytest)"
      ],
      "metadata": {
        "colab": {
          "base_uri": "https://localhost:8080/"
        },
        "id": "DJ-HRE7V9eWQ",
        "outputId": "7ac15d12-5789-472c-bd0f-48079b037590"
      },
      "execution_count": null,
      "outputs": [
        {
          "output_type": "execute_result",
          "data": {
            "text/plain": [
              "1.0"
            ]
          },
          "metadata": {},
          "execution_count": 172
        }
      ]
    },
    {
      "cell_type": "code",
      "source": [
        "regressor.score(dt_test, y_test)"
      ],
      "metadata": {
        "colab": {
          "base_uri": "https://localhost:8080/"
        },
        "id": "iq8Lx_eCEOJK",
        "outputId": "9284d915-9b5f-476a-e6f5-1661b38a2ca9"
      },
      "execution_count": null,
      "outputs": [
        {
          "output_type": "execute_result",
          "data": {
            "text/plain": [
              "0.9988645223654125"
            ]
          },
          "metadata": {},
          "execution_count": 173
        }
      ]
    },
    {
      "cell_type": "markdown",
      "source": [
        "Lo calculamos para ipc"
      ],
      "metadata": {
        "id": "YX__XJLMySKn"
      }
    },
    {
      "cell_type": "code",
      "source": [
        "dt_train2=ipca.transform(X_train)\n",
        "dt_test2=ipca.transform(X_test)"
      ],
      "metadata": {
        "id": "4i-HBXNYyHEZ"
      },
      "execution_count": null,
      "outputs": []
    },
    {
      "cell_type": "code",
      "source": [
        "regressor.fit(dt_train2,y_train)"
      ],
      "metadata": {
        "colab": {
          "base_uri": "https://localhost:8080/"
        },
        "id": "wpCVrZYWyG67",
        "outputId": "7a7f13d5-266b-4f5f-d6cc-4dca20413e36"
      },
      "execution_count": null,
      "outputs": [
        {
          "output_type": "execute_result",
          "data": {
            "text/plain": [
              "LinearRegression()"
            ]
          },
          "metadata": {},
          "execution_count": 175
        }
      ]
    },
    {
      "cell_type": "code",
      "source": [
        "regressor.score(dt_train2, y_train)"
      ],
      "metadata": {
        "colab": {
          "base_uri": "https://localhost:8080/"
        },
        "id": "Urv5I5SGyGvR",
        "outputId": "957ef047-2a26-4f2b-b180-6d60351b848c"
      },
      "execution_count": null,
      "outputs": [
        {
          "output_type": "execute_result",
          "data": {
            "text/plain": [
              "0.9990291732988643"
            ]
          },
          "metadata": {},
          "execution_count": 176
        }
      ]
    },
    {
      "cell_type": "code",
      "source": [
        "regressor.score(dt_test2, y_test)"
      ],
      "metadata": {
        "colab": {
          "base_uri": "https://localhost:8080/"
        },
        "id": "6HChgS2dzTGy",
        "outputId": "4b692ca5-e4d9-42e3-ee7e-c19efd98c030"
      },
      "execution_count": null,
      "outputs": [
        {
          "output_type": "execute_result",
          "data": {
            "text/plain": [
              "0.9988745591203032"
            ]
          },
          "metadata": {},
          "execution_count": 177
        }
      ]
    },
    {
      "cell_type": "code",
      "source": [
        "predict_ytest2=regressor.predict(dt_test2)"
      ],
      "metadata": {
        "id": "AnxejAzlzTvO"
      },
      "execution_count": null,
      "outputs": []
    },
    {
      "cell_type": "code",
      "source": [
        "predict_ytest2"
      ],
      "metadata": {
        "id": "rRp1eY1L5yfm"
      },
      "execution_count": null,
      "outputs": []
    },
    {
      "cell_type": "code",
      "source": [
        "predict_ytest2.shape"
      ],
      "metadata": {
        "colab": {
          "base_uri": "https://localhost:8080/"
        },
        "id": "FGp1o-ghAihQ",
        "outputId": "a1f9e8aa-3a4a-4d44-de6d-0b85ce5b04d7"
      },
      "execution_count": null,
      "outputs": [
        {
          "output_type": "execute_result",
          "data": {
            "text/plain": [
              "(755,)"
            ]
          },
          "metadata": {},
          "execution_count": 180
        }
      ]
    },
    {
      "cell_type": "code",
      "source": [
        "regressor.score(dt_test2, predict_ytest2)"
      ],
      "metadata": {
        "colab": {
          "base_uri": "https://localhost:8080/"
        },
        "id": "QSMef7EK5yT5",
        "outputId": "3dfe3173-6045-45ea-90c1-76e4e34f62cd"
      },
      "execution_count": null,
      "outputs": [
        {
          "output_type": "execute_result",
          "data": {
            "text/plain": [
              "1.0"
            ]
          },
          "metadata": {},
          "execution_count": 181
        }
      ]
    },
    {
      "cell_type": "code",
      "source": [],
      "metadata": {
        "id": "9Qte7N7vDzvk"
      },
      "execution_count": null,
      "outputs": []
    },
    {
      "cell_type": "code",
      "source": [
        "regressor.score(dt_test2, y_test)"
      ],
      "metadata": {
        "colab": {
          "base_uri": "https://localhost:8080/"
        },
        "outputId": "62f0c248-5cc1-4263-e70c-eeeb92ee9bc0",
        "id": "q5QCxAXQD3MY"
      },
      "execution_count": null,
      "outputs": [
        {
          "output_type": "execute_result",
          "data": {
            "text/plain": [
              "0.9988745591203032"
            ]
          },
          "metadata": {},
          "execution_count": 182
        }
      ]
    },
    {
      "cell_type": "code",
      "source": [
        "df_predicciones = pd.DataFrame({'PredPCA' : predict_ytest, 'PredIPCA' : predict_ytest2, 'YTest':y_test, 'Diferencia':predict_ytest2-y_test})\n",
        "df_predicciones"
      ],
      "metadata": {
        "colab": {
          "base_uri": "https://localhost:8080/",
          "height": 423
        },
        "id": "MB3waPw45yE0",
        "outputId": "53ac4b13-ad6b-479d-d79c-9b5db888c489"
      },
      "execution_count": null,
      "outputs": [
        {
          "output_type": "execute_result",
          "data": {
            "text/plain": [
              "          PredPCA     PredIPCA        YTest  Diferencia\n",
              "617   4605.595128  4606.607712  4547.830078   58.777634\n",
              "927   4651.881046  4650.006939  4748.470215  -98.463276\n",
              "942   4909.003652  4903.714722  4891.799805   11.914917\n",
              "973   4778.900366  4775.844489  4715.729980   60.114509\n",
              "1967  8605.106159  8609.975273  8914.709961 -304.734688\n",
              "...           ...          ...          ...         ...\n",
              "1437  7376.589297  7378.667604  7345.290039   33.377565\n",
              "514   4431.068679  4431.817524  4456.020020  -24.202496\n",
              "409   4246.807375  4248.002682  4267.549805  -19.547123\n",
              "1575  7870.787284  7873.156380  7788.450195   84.706185\n",
              "313   3819.690271  3817.021258  3815.020020    2.001238\n",
              "\n",
              "[755 rows x 4 columns]"
            ],
            "text/html": [
              "\n",
              "  <div id=\"df-492e64ae-a79c-49e3-b268-5591148cb364\">\n",
              "    <div class=\"colab-df-container\">\n",
              "      <div>\n",
              "<style scoped>\n",
              "    .dataframe tbody tr th:only-of-type {\n",
              "        vertical-align: middle;\n",
              "    }\n",
              "\n",
              "    .dataframe tbody tr th {\n",
              "        vertical-align: top;\n",
              "    }\n",
              "\n",
              "    .dataframe thead th {\n",
              "        text-align: right;\n",
              "    }\n",
              "</style>\n",
              "<table border=\"1\" class=\"dataframe\">\n",
              "  <thead>\n",
              "    <tr style=\"text-align: right;\">\n",
              "      <th></th>\n",
              "      <th>PredPCA</th>\n",
              "      <th>PredIPCA</th>\n",
              "      <th>YTest</th>\n",
              "      <th>Diferencia</th>\n",
              "    </tr>\n",
              "  </thead>\n",
              "  <tbody>\n",
              "    <tr>\n",
              "      <th>617</th>\n",
              "      <td>4605.595128</td>\n",
              "      <td>4606.607712</td>\n",
              "      <td>4547.830078</td>\n",
              "      <td>58.777634</td>\n",
              "    </tr>\n",
              "    <tr>\n",
              "      <th>927</th>\n",
              "      <td>4651.881046</td>\n",
              "      <td>4650.006939</td>\n",
              "      <td>4748.470215</td>\n",
              "      <td>-98.463276</td>\n",
              "    </tr>\n",
              "    <tr>\n",
              "      <th>942</th>\n",
              "      <td>4909.003652</td>\n",
              "      <td>4903.714722</td>\n",
              "      <td>4891.799805</td>\n",
              "      <td>11.914917</td>\n",
              "    </tr>\n",
              "    <tr>\n",
              "      <th>973</th>\n",
              "      <td>4778.900366</td>\n",
              "      <td>4775.844489</td>\n",
              "      <td>4715.729980</td>\n",
              "      <td>60.114509</td>\n",
              "    </tr>\n",
              "    <tr>\n",
              "      <th>1967</th>\n",
              "      <td>8605.106159</td>\n",
              "      <td>8609.975273</td>\n",
              "      <td>8914.709961</td>\n",
              "      <td>-304.734688</td>\n",
              "    </tr>\n",
              "    <tr>\n",
              "      <th>...</th>\n",
              "      <td>...</td>\n",
              "      <td>...</td>\n",
              "      <td>...</td>\n",
              "      <td>...</td>\n",
              "    </tr>\n",
              "    <tr>\n",
              "      <th>1437</th>\n",
              "      <td>7376.589297</td>\n",
              "      <td>7378.667604</td>\n",
              "      <td>7345.290039</td>\n",
              "      <td>33.377565</td>\n",
              "    </tr>\n",
              "    <tr>\n",
              "      <th>514</th>\n",
              "      <td>4431.068679</td>\n",
              "      <td>4431.817524</td>\n",
              "      <td>4456.020020</td>\n",
              "      <td>-24.202496</td>\n",
              "    </tr>\n",
              "    <tr>\n",
              "      <th>409</th>\n",
              "      <td>4246.807375</td>\n",
              "      <td>4248.002682</td>\n",
              "      <td>4267.549805</td>\n",
              "      <td>-19.547123</td>\n",
              "    </tr>\n",
              "    <tr>\n",
              "      <th>1575</th>\n",
              "      <td>7870.787284</td>\n",
              "      <td>7873.156380</td>\n",
              "      <td>7788.450195</td>\n",
              "      <td>84.706185</td>\n",
              "    </tr>\n",
              "    <tr>\n",
              "      <th>313</th>\n",
              "      <td>3819.690271</td>\n",
              "      <td>3817.021258</td>\n",
              "      <td>3815.020020</td>\n",
              "      <td>2.001238</td>\n",
              "    </tr>\n",
              "  </tbody>\n",
              "</table>\n",
              "<p>755 rows × 4 columns</p>\n",
              "</div>\n",
              "      <button class=\"colab-df-convert\" onclick=\"convertToInteractive('df-492e64ae-a79c-49e3-b268-5591148cb364')\"\n",
              "              title=\"Convert this dataframe to an interactive table.\"\n",
              "              style=\"display:none;\">\n",
              "        \n",
              "  <svg xmlns=\"http://www.w3.org/2000/svg\" height=\"24px\"viewBox=\"0 0 24 24\"\n",
              "       width=\"24px\">\n",
              "    <path d=\"M0 0h24v24H0V0z\" fill=\"none\"/>\n",
              "    <path d=\"M18.56 5.44l.94 2.06.94-2.06 2.06-.94-2.06-.94-.94-2.06-.94 2.06-2.06.94zm-11 1L8.5 8.5l.94-2.06 2.06-.94-2.06-.94L8.5 2.5l-.94 2.06-2.06.94zm10 10l.94 2.06.94-2.06 2.06-.94-2.06-.94-.94-2.06-.94 2.06-2.06.94z\"/><path d=\"M17.41 7.96l-1.37-1.37c-.4-.4-.92-.59-1.43-.59-.52 0-1.04.2-1.43.59L10.3 9.45l-7.72 7.72c-.78.78-.78 2.05 0 2.83L4 21.41c.39.39.9.59 1.41.59.51 0 1.02-.2 1.41-.59l7.78-7.78 2.81-2.81c.8-.78.8-2.07 0-2.86zM5.41 20L4 18.59l7.72-7.72 1.47 1.35L5.41 20z\"/>\n",
              "  </svg>\n",
              "      </button>\n",
              "      \n",
              "  <style>\n",
              "    .colab-df-container {\n",
              "      display:flex;\n",
              "      flex-wrap:wrap;\n",
              "      gap: 12px;\n",
              "    }\n",
              "\n",
              "    .colab-df-convert {\n",
              "      background-color: #E8F0FE;\n",
              "      border: none;\n",
              "      border-radius: 50%;\n",
              "      cursor: pointer;\n",
              "      display: none;\n",
              "      fill: #1967D2;\n",
              "      height: 32px;\n",
              "      padding: 0 0 0 0;\n",
              "      width: 32px;\n",
              "    }\n",
              "\n",
              "    .colab-df-convert:hover {\n",
              "      background-color: #E2EBFA;\n",
              "      box-shadow: 0px 1px 2px rgba(60, 64, 67, 0.3), 0px 1px 3px 1px rgba(60, 64, 67, 0.15);\n",
              "      fill: #174EA6;\n",
              "    }\n",
              "\n",
              "    [theme=dark] .colab-df-convert {\n",
              "      background-color: #3B4455;\n",
              "      fill: #D2E3FC;\n",
              "    }\n",
              "\n",
              "    [theme=dark] .colab-df-convert:hover {\n",
              "      background-color: #434B5C;\n",
              "      box-shadow: 0px 1px 3px 1px rgba(0, 0, 0, 0.15);\n",
              "      filter: drop-shadow(0px 1px 2px rgba(0, 0, 0, 0.3));\n",
              "      fill: #FFFFFF;\n",
              "    }\n",
              "  </style>\n",
              "\n",
              "      <script>\n",
              "        const buttonEl =\n",
              "          document.querySelector('#df-492e64ae-a79c-49e3-b268-5591148cb364 button.colab-df-convert');\n",
              "        buttonEl.style.display =\n",
              "          google.colab.kernel.accessAllowed ? 'block' : 'none';\n",
              "\n",
              "        async function convertToInteractive(key) {\n",
              "          const element = document.querySelector('#df-492e64ae-a79c-49e3-b268-5591148cb364');\n",
              "          const dataTable =\n",
              "            await google.colab.kernel.invokeFunction('convertToInteractive',\n",
              "                                                     [key], {});\n",
              "          if (!dataTable) return;\n",
              "\n",
              "          const docLinkHtml = 'Like what you see? Visit the ' +\n",
              "            '<a target=\"_blank\" href=https://colab.research.google.com/notebooks/data_table.ipynb>data table notebook</a>'\n",
              "            + ' to learn more about interactive tables.';\n",
              "          element.innerHTML = '';\n",
              "          dataTable['output_type'] = 'display_data';\n",
              "          await google.colab.output.renderOutput(dataTable, element);\n",
              "          const docLink = document.createElement('div');\n",
              "          docLink.innerHTML = docLinkHtml;\n",
              "          element.appendChild(docLink);\n",
              "        }\n",
              "      </script>\n",
              "    </div>\n",
              "  </div>\n",
              "  "
            ]
          },
          "metadata": {},
          "execution_count": 183
        }
      ]
    },
    {
      "cell_type": "markdown",
      "source": [
        "**Quedo hasta acá** 06/9/2022 23:31"
      ],
      "metadata": {
        "id": "Bi6_GcKeYuJV"
      }
    },
    {
      "cell_type": "code",
      "source": [],
      "metadata": {
        "id": "fPdzc0ud_GHP"
      },
      "execution_count": null,
      "outputs": []
    },
    {
      "cell_type": "code",
      "source": [],
      "metadata": {
        "id": "WrJWl3I9_GD5"
      },
      "execution_count": null,
      "outputs": []
    },
    {
      "cell_type": "code",
      "source": [],
      "metadata": {
        "id": "UR6oFjeN_GAW"
      },
      "execution_count": null,
      "outputs": []
    },
    {
      "cell_type": "code",
      "source": [],
      "metadata": {
        "id": "5DLxqPgF_F80"
      },
      "execution_count": null,
      "outputs": []
    },
    {
      "cell_type": "code",
      "source": [],
      "metadata": {
        "id": "dXyI7a6o_F42"
      },
      "execution_count": null,
      "outputs": []
    },
    {
      "cell_type": "code",
      "source": [],
      "metadata": {
        "id": "9vCn3VE0_Fyq"
      },
      "execution_count": null,
      "outputs": []
    },
    {
      "cell_type": "code",
      "source": [],
      "metadata": {
        "id": "pGUH3Hmv_Fp7"
      },
      "execution_count": null,
      "outputs": []
    },
    {
      "cell_type": "code",
      "source": [],
      "metadata": {
        "id": "xGwtDgvp_Fe1"
      },
      "execution_count": null,
      "outputs": []
    },
    {
      "cell_type": "code",
      "source": [
        "#Entrenamos el modelo\n",
        "regressor.fit(dt_train,y_train)"
      ],
      "metadata": {
        "colab": {
          "base_uri": "https://localhost:8080/"
        },
        "id": "5j_SoTY53X7s",
        "outputId": "c2bada27-0ec3-45cd-d7cd-78b454fa456a"
      },
      "execution_count": null,
      "outputs": [
        {
          "output_type": "execute_result",
          "data": {
            "text/plain": [
              "LinearRegression()"
            ]
          },
          "metadata": {},
          "execution_count": 184
        }
      ]
    },
    {
      "cell_type": "code",
      "source": [
        "regressor.score(X_train, y_train)"
      ],
      "metadata": {
        "colab": {
          "base_uri": "https://localhost:8080/",
          "height": 323
        },
        "id": "6ao_X4O7658U",
        "outputId": "0d06b861-7463-42d7-a197-fd19d7fb65b7"
      },
      "execution_count": null,
      "outputs": [
        {
          "output_type": "error",
          "ename": "ValueError",
          "evalue": "ignored",
          "traceback": [
            "\u001b[0;31m---------------------------------------------------------------------------\u001b[0m",
            "\u001b[0;31mValueError\u001b[0m                                Traceback (most recent call last)",
            "\u001b[0;32m<ipython-input-185-d4b78bcb57c0>\u001b[0m in \u001b[0;36m<module>\u001b[0;34m\u001b[0m\n\u001b[0;32m----> 1\u001b[0;31m \u001b[0mregressor\u001b[0m\u001b[0;34m.\u001b[0m\u001b[0mscore\u001b[0m\u001b[0;34m(\u001b[0m\u001b[0mX_train\u001b[0m\u001b[0;34m,\u001b[0m \u001b[0my_train\u001b[0m\u001b[0;34m)\u001b[0m\u001b[0;34m\u001b[0m\u001b[0;34m\u001b[0m\u001b[0m\n\u001b[0m",
            "\u001b[0;32m/usr/local/lib/python3.7/dist-packages/sklearn/base.py\u001b[0m in \u001b[0;36mscore\u001b[0;34m(self, X, y, sample_weight)\u001b[0m\n\u001b[1;32m    703\u001b[0m         \u001b[0;32mfrom\u001b[0m \u001b[0;34m.\u001b[0m\u001b[0mmetrics\u001b[0m \u001b[0;32mimport\u001b[0m \u001b[0mr2_score\u001b[0m\u001b[0;34m\u001b[0m\u001b[0;34m\u001b[0m\u001b[0m\n\u001b[1;32m    704\u001b[0m \u001b[0;34m\u001b[0m\u001b[0m\n\u001b[0;32m--> 705\u001b[0;31m         \u001b[0my_pred\u001b[0m \u001b[0;34m=\u001b[0m \u001b[0mself\u001b[0m\u001b[0;34m.\u001b[0m\u001b[0mpredict\u001b[0m\u001b[0;34m(\u001b[0m\u001b[0mX\u001b[0m\u001b[0;34m)\u001b[0m\u001b[0;34m\u001b[0m\u001b[0;34m\u001b[0m\u001b[0m\n\u001b[0m\u001b[1;32m    706\u001b[0m         \u001b[0;32mreturn\u001b[0m \u001b[0mr2_score\u001b[0m\u001b[0;34m(\u001b[0m\u001b[0my\u001b[0m\u001b[0;34m,\u001b[0m \u001b[0my_pred\u001b[0m\u001b[0;34m,\u001b[0m \u001b[0msample_weight\u001b[0m\u001b[0;34m=\u001b[0m\u001b[0msample_weight\u001b[0m\u001b[0;34m)\u001b[0m\u001b[0;34m\u001b[0m\u001b[0;34m\u001b[0m\u001b[0m\n\u001b[1;32m    707\u001b[0m \u001b[0;34m\u001b[0m\u001b[0m\n",
            "\u001b[0;32m/usr/local/lib/python3.7/dist-packages/sklearn/linear_model/_base.py\u001b[0m in \u001b[0;36mpredict\u001b[0;34m(self, X)\u001b[0m\n\u001b[1;32m    360\u001b[0m             \u001b[0mReturns\u001b[0m \u001b[0mpredicted\u001b[0m \u001b[0mvalues\u001b[0m\u001b[0;34m.\u001b[0m\u001b[0;34m\u001b[0m\u001b[0;34m\u001b[0m\u001b[0m\n\u001b[1;32m    361\u001b[0m         \"\"\"\n\u001b[0;32m--> 362\u001b[0;31m         \u001b[0;32mreturn\u001b[0m \u001b[0mself\u001b[0m\u001b[0;34m.\u001b[0m\u001b[0m_decision_function\u001b[0m\u001b[0;34m(\u001b[0m\u001b[0mX\u001b[0m\u001b[0;34m)\u001b[0m\u001b[0;34m\u001b[0m\u001b[0;34m\u001b[0m\u001b[0m\n\u001b[0m\u001b[1;32m    363\u001b[0m \u001b[0;34m\u001b[0m\u001b[0m\n\u001b[1;32m    364\u001b[0m     \u001b[0m_preprocess_data\u001b[0m \u001b[0;34m=\u001b[0m \u001b[0mstaticmethod\u001b[0m\u001b[0;34m(\u001b[0m\u001b[0m_preprocess_data\u001b[0m\u001b[0;34m)\u001b[0m\u001b[0;34m\u001b[0m\u001b[0;34m\u001b[0m\u001b[0m\n",
            "\u001b[0;32m/usr/local/lib/python3.7/dist-packages/sklearn/linear_model/_base.py\u001b[0m in \u001b[0;36m_decision_function\u001b[0;34m(self, X)\u001b[0m\n\u001b[1;32m    343\u001b[0m         \u001b[0mcheck_is_fitted\u001b[0m\u001b[0;34m(\u001b[0m\u001b[0mself\u001b[0m\u001b[0;34m)\u001b[0m\u001b[0;34m\u001b[0m\u001b[0;34m\u001b[0m\u001b[0m\n\u001b[1;32m    344\u001b[0m \u001b[0;34m\u001b[0m\u001b[0m\n\u001b[0;32m--> 345\u001b[0;31m         \u001b[0mX\u001b[0m \u001b[0;34m=\u001b[0m \u001b[0mself\u001b[0m\u001b[0;34m.\u001b[0m\u001b[0m_validate_data\u001b[0m\u001b[0;34m(\u001b[0m\u001b[0mX\u001b[0m\u001b[0;34m,\u001b[0m \u001b[0maccept_sparse\u001b[0m\u001b[0;34m=\u001b[0m\u001b[0;34m[\u001b[0m\u001b[0;34m\"csr\"\u001b[0m\u001b[0;34m,\u001b[0m \u001b[0;34m\"csc\"\u001b[0m\u001b[0;34m,\u001b[0m \u001b[0;34m\"coo\"\u001b[0m\u001b[0;34m]\u001b[0m\u001b[0;34m,\u001b[0m \u001b[0mreset\u001b[0m\u001b[0;34m=\u001b[0m\u001b[0;32mFalse\u001b[0m\u001b[0;34m)\u001b[0m\u001b[0;34m\u001b[0m\u001b[0;34m\u001b[0m\u001b[0m\n\u001b[0m\u001b[1;32m    346\u001b[0m         \u001b[0;32mreturn\u001b[0m \u001b[0msafe_sparse_dot\u001b[0m\u001b[0;34m(\u001b[0m\u001b[0mX\u001b[0m\u001b[0;34m,\u001b[0m \u001b[0mself\u001b[0m\u001b[0;34m.\u001b[0m\u001b[0mcoef_\u001b[0m\u001b[0;34m.\u001b[0m\u001b[0mT\u001b[0m\u001b[0;34m,\u001b[0m \u001b[0mdense_output\u001b[0m\u001b[0;34m=\u001b[0m\u001b[0;32mTrue\u001b[0m\u001b[0;34m)\u001b[0m \u001b[0;34m+\u001b[0m \u001b[0mself\u001b[0m\u001b[0;34m.\u001b[0m\u001b[0mintercept_\u001b[0m\u001b[0;34m\u001b[0m\u001b[0;34m\u001b[0m\u001b[0m\n\u001b[1;32m    347\u001b[0m \u001b[0;34m\u001b[0m\u001b[0m\n",
            "\u001b[0;32m/usr/local/lib/python3.7/dist-packages/sklearn/base.py\u001b[0m in \u001b[0;36m_validate_data\u001b[0;34m(self, X, y, reset, validate_separately, **check_params)\u001b[0m\n\u001b[1;32m    583\u001b[0m \u001b[0;34m\u001b[0m\u001b[0m\n\u001b[1;32m    584\u001b[0m         \u001b[0;32mif\u001b[0m \u001b[0;32mnot\u001b[0m \u001b[0mno_val_X\u001b[0m \u001b[0;32mand\u001b[0m \u001b[0mcheck_params\u001b[0m\u001b[0;34m.\u001b[0m\u001b[0mget\u001b[0m\u001b[0;34m(\u001b[0m\u001b[0;34m\"ensure_2d\"\u001b[0m\u001b[0;34m,\u001b[0m \u001b[0;32mTrue\u001b[0m\u001b[0;34m)\u001b[0m\u001b[0;34m:\u001b[0m\u001b[0;34m\u001b[0m\u001b[0;34m\u001b[0m\u001b[0m\n\u001b[0;32m--> 585\u001b[0;31m             \u001b[0mself\u001b[0m\u001b[0;34m.\u001b[0m\u001b[0m_check_n_features\u001b[0m\u001b[0;34m(\u001b[0m\u001b[0mX\u001b[0m\u001b[0;34m,\u001b[0m \u001b[0mreset\u001b[0m\u001b[0;34m=\u001b[0m\u001b[0mreset\u001b[0m\u001b[0;34m)\u001b[0m\u001b[0;34m\u001b[0m\u001b[0;34m\u001b[0m\u001b[0m\n\u001b[0m\u001b[1;32m    586\u001b[0m \u001b[0;34m\u001b[0m\u001b[0m\n\u001b[1;32m    587\u001b[0m         \u001b[0;32mreturn\u001b[0m \u001b[0mout\u001b[0m\u001b[0;34m\u001b[0m\u001b[0;34m\u001b[0m\u001b[0m\n",
            "\u001b[0;32m/usr/local/lib/python3.7/dist-packages/sklearn/base.py\u001b[0m in \u001b[0;36m_check_n_features\u001b[0;34m(self, X, reset)\u001b[0m\n\u001b[1;32m    399\u001b[0m         \u001b[0;32mif\u001b[0m \u001b[0mn_features\u001b[0m \u001b[0;34m!=\u001b[0m \u001b[0mself\u001b[0m\u001b[0;34m.\u001b[0m\u001b[0mn_features_in_\u001b[0m\u001b[0;34m:\u001b[0m\u001b[0;34m\u001b[0m\u001b[0;34m\u001b[0m\u001b[0m\n\u001b[1;32m    400\u001b[0m             raise ValueError(\n\u001b[0;32m--> 401\u001b[0;31m                 \u001b[0;34mf\"X has {n_features} features, but {self.__class__.__name__} \"\u001b[0m\u001b[0;34m\u001b[0m\u001b[0;34m\u001b[0m\u001b[0m\n\u001b[0m\u001b[1;32m    402\u001b[0m                 \u001b[0;34mf\"is expecting {self.n_features_in_} features as input.\"\u001b[0m\u001b[0;34m\u001b[0m\u001b[0;34m\u001b[0m\u001b[0m\n\u001b[1;32m    403\u001b[0m             )\n",
            "\u001b[0;31mValueError\u001b[0m: X has 4 features, but LinearRegression is expecting 2 features as input."
          ]
        }
      ]
    },
    {
      "cell_type": "code",
      "source": [
        "#Realizo la predicción con los datos de prueba\n",
        "predict_ytest=regressor.predict(X_test)"
      ],
      "metadata": {
        "id": "jaEtHf4JbQtR"
      },
      "execution_count": null,
      "outputs": []
    },
    {
      "cell_type": "code",
      "source": [
        "#Calculamos la presición del algoritmo con los datos de prueba\n",
        "regressor.score(X_test,predict_ytest)"
      ],
      "metadata": {
        "colab": {
          "base_uri": "https://localhost:8080/"
        },
        "id": "gywPQS4Ubzdj",
        "outputId": "5a50fbde-b0c3-4a0a-ec87-c99fd685cb00"
      },
      "execution_count": null,
      "outputs": [
        {
          "output_type": "execute_result",
          "data": {
            "text/plain": [
              "1.0"
            ]
          },
          "metadata": {},
          "execution_count": 109
        }
      ]
    },
    {
      "cell_type": "code",
      "source": [
        "from sklearn.metrics import r2_score"
      ],
      "metadata": {
        "id": "e6zAfJFWwneN"
      },
      "execution_count": null,
      "outputs": []
    },
    {
      "cell_type": "code",
      "source": [
        "r2_score(y_test,predict_ytest)"
      ],
      "metadata": {
        "colab": {
          "base_uri": "https://localhost:8080/"
        },
        "id": "rVpyKb2fZSPv",
        "outputId": "38bf4a1d-3c16-4f87-d190-075765edcf4e"
      },
      "execution_count": null,
      "outputs": [
        {
          "output_type": "execute_result",
          "data": {
            "text/plain": [
              "0.9988391728069951"
            ]
          },
          "metadata": {},
          "execution_count": 110
        }
      ]
    },
    {
      "cell_type": "code",
      "source": [
        "error=np.sqrt(mean_squared_error(y_test,predict_ytest))\n",
        "error"
      ],
      "metadata": {
        "colab": {
          "base_uri": "https://localhost:8080/"
        },
        "id": "kTlsZPkCdrMo",
        "outputId": "e8c75fe3-5b4a-42b6-d666-60044df0948d"
      },
      "execution_count": null,
      "outputs": [
        {
          "output_type": "execute_result",
          "data": {
            "text/plain": [
              "117.8767608672016"
            ]
          },
          "metadata": {},
          "execution_count": 116
        }
      ]
    },
    {
      "cell_type": "markdown",
      "source": [
        "**Quitar el volumen**"
      ],
      "metadata": {
        "id": "rSV34rOWDeJn"
      }
    },
    {
      "cell_type": "markdown",
      "source": [
        "##**Realizamos Predicciones**"
      ],
      "metadata": {
        "id": "KBQevpKoNoL-"
      }
    },
    {
      "cell_type": "markdown",
      "source": [
        "**Tomamos datos que no se encuentran en el dataset inicial** (Revisar acá)"
      ],
      "metadata": {
        "id": "Bu-XUpbSrQ-y"
      }
    },
    {
      "cell_type": "code",
      "source": [
        "#Eliminamos la comumna Volume\n",
        "dset_predict = dset_predict.drop(dset_predict.columns[[5]], axis='columns')\n"
      ],
      "metadata": {
        "id": "1KLIkTR4B3B5"
      },
      "execution_count": null,
      "outputs": []
    },
    {
      "cell_type": "code",
      "source": [
        "dset_predict"
      ],
      "metadata": {
        "id": "iznI1eL1FZkp"
      },
      "execution_count": null,
      "outputs": []
    },
    {
      "cell_type": "code",
      "source": [
        "#Seleccionamos los valores de X que vamos a utilizar\n",
        "X_predict=dset_predict.iloc[:,1:6 -1].values\n",
        "y_predict=dset_predict.iloc[:, 5].values"
      ],
      "metadata": {
        "id": "KMgEKPJ8p1ed"
      },
      "execution_count": null,
      "outputs": []
    },
    {
      "cell_type": "code",
      "source": [
        "X_predict"
      ],
      "metadata": {
        "colab": {
          "base_uri": "https://localhost:8080/"
        },
        "id": "pKt-zuU0slOF",
        "outputId": "47d1bc1b-ac7b-46b2-bc2e-2f696e470890"
      },
      "execution_count": null,
      "outputs": [
        {
          "output_type": "execute_result",
          "data": {
            "text/plain": [
              "array([[11160.21973, 11226.33008, 11072.19043, 11177.88965],\n",
              "       [11048.25   , 11160.91992, 10850.00977, 11028.74023],\n",
              "       [11006.83008, 11132.54981, 10922.70996, 11127.84961],\n",
              "       [10964.17969, 11323.88965, 10911.4502 , 11322.24023],\n",
              "       [11337.90039, 11443.15039, 11250.32031, 11361.84961],\n",
              "       [11422.59961, 11644.46973, 11412.87988, 11621.34961],\n",
              "       [11503.61035, 11689.7002 , 11479.76953, 11635.30957],\n",
              "       [11524.49023, 11541.09961, 11348.05957, 11372.59961],\n",
              "       [11420.88965, 11483.16992, 11207.08008, 11264.73047],\n",
              "       [11056.54981, 11325.66992, 11031.26953, 11247.58008],\n",
              "       [11151.20996, 11279.96973, 11005.92969, 11251.19043],\n",
              "       [11379.36035, 11454.69043, 11295.33008, 11452.41992],\n",
              "       [11561.63965, 11629.03027, 11322.83984, 11360.04981],\n",
              "       [11515.     , 11721.21973, 11448.96973, 11713.15039],\n",
              "       [11726.08984, 11939.95996, 11703.36035, 11897.65039],\n",
              "       [11914.15039, 12060.58984, 11812.71973, 12059.61035],\n",
              "       [12025.37012, 12093.01953, 11767.19043, 11834.11035],\n",
              "       [11837.95996, 11855.11035, 11707.53027, 11782.66992],\n",
              "       [11701.53027, 11711.30957, 11533.37012, 11562.57031],\n",
              "       [11756.19043, 12081.73047, 11718.37988, 12032.41992],\n",
              "       [12036.48047, 12179.08984, 11886.66992, 12162.58984],\n",
              "       [12239.69043, 12426.25977, 12181.12988, 12390.69043],\n",
              "       [12317.95996, 12499.71973, 12271.98047, 12368.98047],\n",
              "       [12287.66992, 12503.33984, 12260.48047, 12348.75977],\n",
              "       [12433.87012, 12699.63965, 12425.20996, 12668.16016],\n",
              "       [12675.04004, 12736.19043, 12600.78027, 12720.58008],\n",
              "       [12538.79981, 12720.44043, 12525.76953, 12657.54981],\n",
              "       [12703.71973, 12855.15039, 12597.75   , 12644.45996],\n",
              "       [12557.49023, 12582.91016, 12438.86035, 12493.92969],\n",
              "       [12793.44043, 12861.44043, 12698.61035, 12854.79981],\n",
              "       [12944.82031, 13026.24023, 12760.08984, 12779.91016],\n",
              "       [12866.30957, 13047.19043, 12821.21973, 13047.19043],\n",
              "       [12996.62988, 13146.05957, 12993.78027, 13128.04981],\n",
              "       [13082.63965, 13181.08984, 12979.24023, 13102.54981],\n",
              "       [12968.62988, 13053.50977, 12863.00977, 12938.12012],\n",
              "       [12937.79004, 13002.66016, 12873.49023, 12965.33984]])"
            ]
          },
          "metadata": {},
          "execution_count": 136
        }
      ]
    },
    {
      "cell_type": "code",
      "source": [
        "y_predict"
      ],
      "metadata": {
        "id": "AUdJdrtkqBni",
        "colab": {
          "base_uri": "https://localhost:8080/"
        },
        "outputId": "8bdfa0f2-bdad-4fb3-afac-ed6c6e4b7559"
      },
      "execution_count": null,
      "outputs": [
        {
          "output_type": "execute_result",
          "data": {
            "text/plain": [
              "array([11028.74023, 11127.84961, 11322.24023, 11361.84961, 11621.34961,\n",
              "       11635.30957, 11372.59961, 11264.73047, 11247.58008, 11251.19043,\n",
              "       11452.41992, 11360.04981, 11713.15039, 11897.65039, 12059.61035,\n",
              "       11834.11035, 11782.66992, 11562.57031, 12032.41992, 12162.58984,\n",
              "       12390.69043, 12368.98047, 12348.75977, 12668.16016, 12720.58008,\n",
              "       12657.54981, 12644.45996, 12493.92969, 12854.79981, 12779.91016,\n",
              "       13047.19043, 13128.04981, 13102.54981, 12938.12012, 12965.33984,\n",
              "       12705.21973])"
            ]
          },
          "metadata": {},
          "execution_count": 137
        }
      ]
    },
    {
      "cell_type": "code",
      "source": [
        "#Creamos y usamos el modelo para predecir\n",
        "regressor1 = LinearRegression()\n",
        "regressor1.fit(X_train, y_train)\n",
        "y_pred2 = regressor1.predict(X_predict)\n",
        "y_pred2"
      ],
      "metadata": {
        "colab": {
          "base_uri": "https://localhost:8080/"
        },
        "id": "Uhy2-jR4NvGs",
        "outputId": "118def73-df49-417b-b199-5cbb30578c62"
      },
      "execution_count": null,
      "outputs": [
        {
          "output_type": "execute_result",
          "data": {
            "text/plain": [
              "array([11171.67577089, 11018.10090953, 11113.9330022 , 11332.63249641,\n",
              "       11368.10114833, 11641.19194632, 11657.79573444, 11372.39848446,\n",
              "       11271.49601305, 11282.57034356, 11226.50468481, 11434.18109702,\n",
              "       11374.7276443 , 11710.7850227 , 11918.64851571, 12040.40880691,\n",
              "       11839.84766233, 11767.37942021, 11558.38107436, 12058.63127159,\n",
              "       12133.39300022, 12396.97930842, 12406.88913631, 12401.62216853,\n",
              "       12693.25185009, 12707.5379859 , 12684.90191465, 12686.14534018,\n",
              "       12487.21853972, 12833.42436762, 12804.04218961, 13046.16936574,\n",
              "       13142.63839845, 13101.92563442, 12946.92503886, 12961.80194867])"
            ]
          },
          "metadata": {},
          "execution_count": 138
        }
      ]
    },
    {
      "cell_type": "markdown",
      "source": [
        "**Calculamos el score**"
      ],
      "metadata": {
        "id": "CnsJdDmZy3ON"
      }
    },
    {
      "cell_type": "code",
      "source": [
        "regressor1.score(X_predict, y_pred2)"
      ],
      "metadata": {
        "colab": {
          "base_uri": "https://localhost:8080/"
        },
        "id": "roHPHplYpaEe",
        "outputId": "beba5d55-8749-4e9f-8629-2b9b0769b555"
      },
      "execution_count": null,
      "outputs": [
        {
          "output_type": "execute_result",
          "data": {
            "text/plain": [
              "1.0"
            ]
          },
          "metadata": {},
          "execution_count": 139
        }
      ]
    },
    {
      "cell_type": "markdown",
      "source": [
        "**Calculamos el coeficiente de determinación R2**"
      ],
      "metadata": {
        "id": "Dz2MGK54y87O"
      }
    },
    {
      "cell_type": "code",
      "source": [
        "r2_score(y_pred2,regressor1.predict(X_predict)) "
      ],
      "metadata": {
        "colab": {
          "base_uri": "https://localhost:8080/"
        },
        "id": "BlFALPUtsACD",
        "outputId": "ef1ec4d4-840e-4fda-9562-1f663d65431c"
      },
      "execution_count": null,
      "outputs": [
        {
          "output_type": "execute_result",
          "data": {
            "text/plain": [
              "1.0"
            ]
          },
          "metadata": {},
          "execution_count": 140
        }
      ]
    },
    {
      "cell_type": "markdown",
      "source": [
        "**Calculamos el error estadístico**"
      ],
      "metadata": {
        "id": "L0jSFmHJzsmK"
      }
    },
    {
      "cell_type": "code",
      "source": [
        "error=np.sqrt(mean_squared_error(y_predict,y_pred2))\n",
        "error"
      ],
      "metadata": {
        "colab": {
          "base_uri": "https://localhost:8080/"
        },
        "id": "glXmZj1g1A70",
        "outputId": "2ad81481-7772-428d-eecb-7985081896dc"
      },
      "execution_count": null,
      "outputs": [
        {
          "output_type": "execute_result",
          "data": {
            "text/plain": [
              "187.54089220129714"
            ]
          },
          "metadata": {},
          "execution_count": 141
        }
      ]
    },
    {
      "cell_type": "markdown",
      "source": [
        "**Creamos un dataframe para comparar las predicciones, con los valores reales**"
      ],
      "metadata": {
        "id": "82wSCM_fxI7M"
      }
    },
    {
      "cell_type": "code",
      "source": [
        "df_predicciones = pd.DataFrame({'Preal' : dset_predict['Close_tom'], 'Prediccion' : y_pred2, 'diferencia':dset_predict['Close_tom']-y_pred2})\n",
        "df_predicciones"
      ],
      "metadata": {
        "colab": {
          "base_uri": "https://localhost:8080/",
          "height": 1000
        },
        "id": "wBMqLMoNxRWr",
        "outputId": "0ad64dea-9a9c-48a5-e0f4-393e1f259ac5"
      },
      "execution_count": null,
      "outputs": [
        {
          "output_type": "execute_result",
          "data": {
            "text/plain": [
              "          Preal    Prediccion  diferencia\n",
              "0   11028.74023  11171.675771 -142.935541\n",
              "1   11127.84961  11018.100910  109.748700\n",
              "2   11322.24023  11113.933002  208.307228\n",
              "3   11361.84961  11332.632496   29.217114\n",
              "4   11621.34961  11368.101148  253.248462\n",
              "5   11635.30957  11641.191946   -5.882376\n",
              "6   11372.59961  11657.795734 -285.196124\n",
              "7   11264.73047  11372.398484 -107.668014\n",
              "8   11247.58008  11271.496013  -23.915933\n",
              "9   11251.19043  11282.570344  -31.379914\n",
              "10  11452.41992  11226.504685  225.915235\n",
              "11  11360.04981  11434.181097  -74.131287\n",
              "12  11713.15039  11374.727644  338.422746\n",
              "13  11897.65039  11710.785023  186.865367\n",
              "14  12059.61035  11918.648516  140.961834\n",
              "15  11834.11035  12040.408807 -206.298457\n",
              "16  11782.66992  11839.847662  -57.177742\n",
              "17  11562.57031  11767.379420 -204.809110\n",
              "18  12032.41992  11558.381074  474.038846\n",
              "19  12162.58984  12058.631272  103.958568\n",
              "20  12390.69043  12133.393000  257.297430\n",
              "21  12368.98047  12396.979308  -27.998838\n",
              "22  12348.75977  12406.889136  -58.129366\n",
              "23  12668.16016  12401.622169  266.537991\n",
              "24  12720.58008  12693.251850   27.328230\n",
              "25  12657.54981  12707.537986  -49.988176\n",
              "26  12644.45996  12684.901915  -40.441955\n",
              "27  12493.92969  12686.145340 -192.215650\n",
              "28  12854.79981  12487.218540  367.581270\n",
              "29  12779.91016  12833.424368  -53.514208\n",
              "30  13047.19043  12804.042190  243.148240\n",
              "31  13128.04981  13046.169366   81.880444\n",
              "32  13102.54981  13142.638398  -40.088588\n",
              "33  12938.12012  13101.925634 -163.805514\n",
              "34  12965.33984  12946.925039   18.414801\n",
              "35  12705.21973  12961.801949 -256.582219"
            ],
            "text/html": [
              "\n",
              "  <div id=\"df-b05c4ade-b6b6-468e-b259-fa581ef786ed\">\n",
              "    <div class=\"colab-df-container\">\n",
              "      <div>\n",
              "<style scoped>\n",
              "    .dataframe tbody tr th:only-of-type {\n",
              "        vertical-align: middle;\n",
              "    }\n",
              "\n",
              "    .dataframe tbody tr th {\n",
              "        vertical-align: top;\n",
              "    }\n",
              "\n",
              "    .dataframe thead th {\n",
              "        text-align: right;\n",
              "    }\n",
              "</style>\n",
              "<table border=\"1\" class=\"dataframe\">\n",
              "  <thead>\n",
              "    <tr style=\"text-align: right;\">\n",
              "      <th></th>\n",
              "      <th>Preal</th>\n",
              "      <th>Prediccion</th>\n",
              "      <th>diferencia</th>\n",
              "    </tr>\n",
              "  </thead>\n",
              "  <tbody>\n",
              "    <tr>\n",
              "      <th>0</th>\n",
              "      <td>11028.74023</td>\n",
              "      <td>11171.675771</td>\n",
              "      <td>-142.935541</td>\n",
              "    </tr>\n",
              "    <tr>\n",
              "      <th>1</th>\n",
              "      <td>11127.84961</td>\n",
              "      <td>11018.100910</td>\n",
              "      <td>109.748700</td>\n",
              "    </tr>\n",
              "    <tr>\n",
              "      <th>2</th>\n",
              "      <td>11322.24023</td>\n",
              "      <td>11113.933002</td>\n",
              "      <td>208.307228</td>\n",
              "    </tr>\n",
              "    <tr>\n",
              "      <th>3</th>\n",
              "      <td>11361.84961</td>\n",
              "      <td>11332.632496</td>\n",
              "      <td>29.217114</td>\n",
              "    </tr>\n",
              "    <tr>\n",
              "      <th>4</th>\n",
              "      <td>11621.34961</td>\n",
              "      <td>11368.101148</td>\n",
              "      <td>253.248462</td>\n",
              "    </tr>\n",
              "    <tr>\n",
              "      <th>5</th>\n",
              "      <td>11635.30957</td>\n",
              "      <td>11641.191946</td>\n",
              "      <td>-5.882376</td>\n",
              "    </tr>\n",
              "    <tr>\n",
              "      <th>6</th>\n",
              "      <td>11372.59961</td>\n",
              "      <td>11657.795734</td>\n",
              "      <td>-285.196124</td>\n",
              "    </tr>\n",
              "    <tr>\n",
              "      <th>7</th>\n",
              "      <td>11264.73047</td>\n",
              "      <td>11372.398484</td>\n",
              "      <td>-107.668014</td>\n",
              "    </tr>\n",
              "    <tr>\n",
              "      <th>8</th>\n",
              "      <td>11247.58008</td>\n",
              "      <td>11271.496013</td>\n",
              "      <td>-23.915933</td>\n",
              "    </tr>\n",
              "    <tr>\n",
              "      <th>9</th>\n",
              "      <td>11251.19043</td>\n",
              "      <td>11282.570344</td>\n",
              "      <td>-31.379914</td>\n",
              "    </tr>\n",
              "    <tr>\n",
              "      <th>10</th>\n",
              "      <td>11452.41992</td>\n",
              "      <td>11226.504685</td>\n",
              "      <td>225.915235</td>\n",
              "    </tr>\n",
              "    <tr>\n",
              "      <th>11</th>\n",
              "      <td>11360.04981</td>\n",
              "      <td>11434.181097</td>\n",
              "      <td>-74.131287</td>\n",
              "    </tr>\n",
              "    <tr>\n",
              "      <th>12</th>\n",
              "      <td>11713.15039</td>\n",
              "      <td>11374.727644</td>\n",
              "      <td>338.422746</td>\n",
              "    </tr>\n",
              "    <tr>\n",
              "      <th>13</th>\n",
              "      <td>11897.65039</td>\n",
              "      <td>11710.785023</td>\n",
              "      <td>186.865367</td>\n",
              "    </tr>\n",
              "    <tr>\n",
              "      <th>14</th>\n",
              "      <td>12059.61035</td>\n",
              "      <td>11918.648516</td>\n",
              "      <td>140.961834</td>\n",
              "    </tr>\n",
              "    <tr>\n",
              "      <th>15</th>\n",
              "      <td>11834.11035</td>\n",
              "      <td>12040.408807</td>\n",
              "      <td>-206.298457</td>\n",
              "    </tr>\n",
              "    <tr>\n",
              "      <th>16</th>\n",
              "      <td>11782.66992</td>\n",
              "      <td>11839.847662</td>\n",
              "      <td>-57.177742</td>\n",
              "    </tr>\n",
              "    <tr>\n",
              "      <th>17</th>\n",
              "      <td>11562.57031</td>\n",
              "      <td>11767.379420</td>\n",
              "      <td>-204.809110</td>\n",
              "    </tr>\n",
              "    <tr>\n",
              "      <th>18</th>\n",
              "      <td>12032.41992</td>\n",
              "      <td>11558.381074</td>\n",
              "      <td>474.038846</td>\n",
              "    </tr>\n",
              "    <tr>\n",
              "      <th>19</th>\n",
              "      <td>12162.58984</td>\n",
              "      <td>12058.631272</td>\n",
              "      <td>103.958568</td>\n",
              "    </tr>\n",
              "    <tr>\n",
              "      <th>20</th>\n",
              "      <td>12390.69043</td>\n",
              "      <td>12133.393000</td>\n",
              "      <td>257.297430</td>\n",
              "    </tr>\n",
              "    <tr>\n",
              "      <th>21</th>\n",
              "      <td>12368.98047</td>\n",
              "      <td>12396.979308</td>\n",
              "      <td>-27.998838</td>\n",
              "    </tr>\n",
              "    <tr>\n",
              "      <th>22</th>\n",
              "      <td>12348.75977</td>\n",
              "      <td>12406.889136</td>\n",
              "      <td>-58.129366</td>\n",
              "    </tr>\n",
              "    <tr>\n",
              "      <th>23</th>\n",
              "      <td>12668.16016</td>\n",
              "      <td>12401.622169</td>\n",
              "      <td>266.537991</td>\n",
              "    </tr>\n",
              "    <tr>\n",
              "      <th>24</th>\n",
              "      <td>12720.58008</td>\n",
              "      <td>12693.251850</td>\n",
              "      <td>27.328230</td>\n",
              "    </tr>\n",
              "    <tr>\n",
              "      <th>25</th>\n",
              "      <td>12657.54981</td>\n",
              "      <td>12707.537986</td>\n",
              "      <td>-49.988176</td>\n",
              "    </tr>\n",
              "    <tr>\n",
              "      <th>26</th>\n",
              "      <td>12644.45996</td>\n",
              "      <td>12684.901915</td>\n",
              "      <td>-40.441955</td>\n",
              "    </tr>\n",
              "    <tr>\n",
              "      <th>27</th>\n",
              "      <td>12493.92969</td>\n",
              "      <td>12686.145340</td>\n",
              "      <td>-192.215650</td>\n",
              "    </tr>\n",
              "    <tr>\n",
              "      <th>28</th>\n",
              "      <td>12854.79981</td>\n",
              "      <td>12487.218540</td>\n",
              "      <td>367.581270</td>\n",
              "    </tr>\n",
              "    <tr>\n",
              "      <th>29</th>\n",
              "      <td>12779.91016</td>\n",
              "      <td>12833.424368</td>\n",
              "      <td>-53.514208</td>\n",
              "    </tr>\n",
              "    <tr>\n",
              "      <th>30</th>\n",
              "      <td>13047.19043</td>\n",
              "      <td>12804.042190</td>\n",
              "      <td>243.148240</td>\n",
              "    </tr>\n",
              "    <tr>\n",
              "      <th>31</th>\n",
              "      <td>13128.04981</td>\n",
              "      <td>13046.169366</td>\n",
              "      <td>81.880444</td>\n",
              "    </tr>\n",
              "    <tr>\n",
              "      <th>32</th>\n",
              "      <td>13102.54981</td>\n",
              "      <td>13142.638398</td>\n",
              "      <td>-40.088588</td>\n",
              "    </tr>\n",
              "    <tr>\n",
              "      <th>33</th>\n",
              "      <td>12938.12012</td>\n",
              "      <td>13101.925634</td>\n",
              "      <td>-163.805514</td>\n",
              "    </tr>\n",
              "    <tr>\n",
              "      <th>34</th>\n",
              "      <td>12965.33984</td>\n",
              "      <td>12946.925039</td>\n",
              "      <td>18.414801</td>\n",
              "    </tr>\n",
              "    <tr>\n",
              "      <th>35</th>\n",
              "      <td>12705.21973</td>\n",
              "      <td>12961.801949</td>\n",
              "      <td>-256.582219</td>\n",
              "    </tr>\n",
              "  </tbody>\n",
              "</table>\n",
              "</div>\n",
              "      <button class=\"colab-df-convert\" onclick=\"convertToInteractive('df-b05c4ade-b6b6-468e-b259-fa581ef786ed')\"\n",
              "              title=\"Convert this dataframe to an interactive table.\"\n",
              "              style=\"display:none;\">\n",
              "        \n",
              "  <svg xmlns=\"http://www.w3.org/2000/svg\" height=\"24px\"viewBox=\"0 0 24 24\"\n",
              "       width=\"24px\">\n",
              "    <path d=\"M0 0h24v24H0V0z\" fill=\"none\"/>\n",
              "    <path d=\"M18.56 5.44l.94 2.06.94-2.06 2.06-.94-2.06-.94-.94-2.06-.94 2.06-2.06.94zm-11 1L8.5 8.5l.94-2.06 2.06-.94-2.06-.94L8.5 2.5l-.94 2.06-2.06.94zm10 10l.94 2.06.94-2.06 2.06-.94-2.06-.94-.94-2.06-.94 2.06-2.06.94z\"/><path d=\"M17.41 7.96l-1.37-1.37c-.4-.4-.92-.59-1.43-.59-.52 0-1.04.2-1.43.59L10.3 9.45l-7.72 7.72c-.78.78-.78 2.05 0 2.83L4 21.41c.39.39.9.59 1.41.59.51 0 1.02-.2 1.41-.59l7.78-7.78 2.81-2.81c.8-.78.8-2.07 0-2.86zM5.41 20L4 18.59l7.72-7.72 1.47 1.35L5.41 20z\"/>\n",
              "  </svg>\n",
              "      </button>\n",
              "      \n",
              "  <style>\n",
              "    .colab-df-container {\n",
              "      display:flex;\n",
              "      flex-wrap:wrap;\n",
              "      gap: 12px;\n",
              "    }\n",
              "\n",
              "    .colab-df-convert {\n",
              "      background-color: #E8F0FE;\n",
              "      border: none;\n",
              "      border-radius: 50%;\n",
              "      cursor: pointer;\n",
              "      display: none;\n",
              "      fill: #1967D2;\n",
              "      height: 32px;\n",
              "      padding: 0 0 0 0;\n",
              "      width: 32px;\n",
              "    }\n",
              "\n",
              "    .colab-df-convert:hover {\n",
              "      background-color: #E2EBFA;\n",
              "      box-shadow: 0px 1px 2px rgba(60, 64, 67, 0.3), 0px 1px 3px 1px rgba(60, 64, 67, 0.15);\n",
              "      fill: #174EA6;\n",
              "    }\n",
              "\n",
              "    [theme=dark] .colab-df-convert {\n",
              "      background-color: #3B4455;\n",
              "      fill: #D2E3FC;\n",
              "    }\n",
              "\n",
              "    [theme=dark] .colab-df-convert:hover {\n",
              "      background-color: #434B5C;\n",
              "      box-shadow: 0px 1px 3px 1px rgba(0, 0, 0, 0.15);\n",
              "      filter: drop-shadow(0px 1px 2px rgba(0, 0, 0, 0.3));\n",
              "      fill: #FFFFFF;\n",
              "    }\n",
              "  </style>\n",
              "\n",
              "      <script>\n",
              "        const buttonEl =\n",
              "          document.querySelector('#df-b05c4ade-b6b6-468e-b259-fa581ef786ed button.colab-df-convert');\n",
              "        buttonEl.style.display =\n",
              "          google.colab.kernel.accessAllowed ? 'block' : 'none';\n",
              "\n",
              "        async function convertToInteractive(key) {\n",
              "          const element = document.querySelector('#df-b05c4ade-b6b6-468e-b259-fa581ef786ed');\n",
              "          const dataTable =\n",
              "            await google.colab.kernel.invokeFunction('convertToInteractive',\n",
              "                                                     [key], {});\n",
              "          if (!dataTable) return;\n",
              "\n",
              "          const docLinkHtml = 'Like what you see? Visit the ' +\n",
              "            '<a target=\"_blank\" href=https://colab.research.google.com/notebooks/data_table.ipynb>data table notebook</a>'\n",
              "            + ' to learn more about interactive tables.';\n",
              "          element.innerHTML = '';\n",
              "          dataTable['output_type'] = 'display_data';\n",
              "          await google.colab.output.renderOutput(dataTable, element);\n",
              "          const docLink = document.createElement('div');\n",
              "          docLink.innerHTML = docLinkHtml;\n",
              "          element.appendChild(docLink);\n",
              "        }\n",
              "      </script>\n",
              "    </div>\n",
              "  </div>\n",
              "  "
            ]
          },
          "metadata": {},
          "execution_count": 142
        }
      ]
    },
    {
      "cell_type": "markdown",
      "source": [
        "**Realizamos predicciones con datos nuevos**"
      ],
      "metadata": {
        "id": "7ihWKGWX0A3z"
      }
    },
    {
      "cell_type": "code",
      "source": [
        "#Definimos las columnas que utilizaremos\n",
        "ds_predicciones=dset_predicciones[encabezado]"
      ],
      "metadata": {
        "id": "E1H4lgsz0FBE"
      },
      "execution_count": null,
      "outputs": []
    },
    {
      "cell_type": "code",
      "source": [
        "#Seleccionamos las columnas con las que vamos a trabajar\n",
        "X_predicciones=ds_predicciones.iloc[:, :-1].values\n",
        "X_predicciones"
      ],
      "metadata": {
        "colab": {
          "base_uri": "https://localhost:8080/"
        },
        "id": "ZHecPPD80Qo6",
        "outputId": "754e280e-d764-4186-e474-c7b27d554184"
      },
      "execution_count": null,
      "outputs": [
        {
          "output_type": "execute_result",
          "data": {
            "text/plain": [
              "array([[1.040063, 1.039134, 1.043798, 1.040063]])"
            ]
          },
          "metadata": {},
          "execution_count": 38
        }
      ]
    },
    {
      "cell_type": "code",
      "source": [
        "#Realizamos las predicciones con los datos nuevos\n",
        "regressor2 = LinearRegression()\n",
        "regressor2.fit(X_train, y_train)\n",
        "y_prediccion = regressor2.predict(X_predicciones)\n",
        "y_prediccion"
      ],
      "metadata": {
        "colab": {
          "base_uri": "https://localhost:8080/"
        },
        "id": "h_SsAP8o0bwi",
        "outputId": "14c0ebf0-e23b-4ecf-e126-6c39289f0c1e"
      },
      "execution_count": null,
      "outputs": [
        {
          "output_type": "execute_result",
          "data": {
            "text/plain": [
              "array([1.04246257])"
            ]
          },
          "metadata": {},
          "execution_count": 39
        }
      ]
    },
    {
      "cell_type": "code",
      "source": [
        "print(f'El precio de mañana será:{y_prediccion}' )"
      ],
      "metadata": {
        "id": "_96cMOnzVUpo",
        "colab": {
          "base_uri": "https://localhost:8080/"
        },
        "outputId": "d27b4bd6-de18-4e93-83e9-7277c527654d"
      },
      "execution_count": null,
      "outputs": [
        {
          "output_type": "stream",
          "name": "stdout",
          "text": [
            "El precio de mañana será:[1.04246257]\n"
          ]
        }
      ]
    },
    {
      "cell_type": "markdown",
      "source": [],
      "metadata": {
        "id": "ScQbtwdc-_Ow"
      }
    }
  ]
}