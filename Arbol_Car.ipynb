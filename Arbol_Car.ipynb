{
  "nbformat": 4,
  "nbformat_minor": 0,
  "metadata": {
    "colab": {
      "name": "Arbol-Car.ipynb",
      "provenance": [],
      "authorship_tag": "ABX9TyOW7HKHYWye8FiuQS97Hxan",
      "include_colab_link": true
    },
    "kernelspec": {
      "name": "python3",
      "display_name": "Python 3"
    }
  },
  "cells": [
    {
      "cell_type": "markdown",
      "metadata": {
        "id": "view-in-github",
        "colab_type": "text"
      },
      "source": [
        "<a href=\"https://colab.research.google.com/github/Isom99/cursodeGit/blob/master/Arbol_Car.ipynb\" target=\"_parent\"><img src=\"https://colab.research.google.com/assets/colab-badge.svg\" alt=\"Open In Colab\"/></a>"
      ]
    },
    {
      "cell_type": "code",
      "metadata": {
        "id": "oHh_xbZdKcRZ"
      },
      "source": [
        "import pandas as pd\r\n",
        "import matplotlib.pyplot as plt"
      ],
      "execution_count": null,
      "outputs": []
    },
    {
      "cell_type": "code",
      "metadata": {
        "id": "io75WhHhK_0R"
      },
      "source": [
        "data = pd.read_csv('car.csv', header = None)"
      ],
      "execution_count": null,
      "outputs": []
    },
    {
      "cell_type": "code",
      "metadata": {
        "id": "PuB4x-wFLRif"
      },
      "source": [
        "data.columns = ['precio','mantenimiento', 'n_puertas', 'pasajeros', 't_maleta', 'seguridad', 'clase']"
      ],
      "execution_count": null,
      "outputs": []
    },
    {
      "cell_type": "code",
      "metadata": {
        "colab": {
          "base_uri": "https://localhost:8080/",
          "height": 195
        },
        "id": "PfIqPLKlLsfc",
        "outputId": "20ae23c1-a57a-4f00-fc1a-17e14422e2a8"
      },
      "source": [
        "data.sample(5)"
      ],
      "execution_count": null,
      "outputs": [
        {
          "output_type": "execute_result",
          "data": {
            "text/html": [
              "<div>\n",
              "<style scoped>\n",
              "    .dataframe tbody tr th:only-of-type {\n",
              "        vertical-align: middle;\n",
              "    }\n",
              "\n",
              "    .dataframe tbody tr th {\n",
              "        vertical-align: top;\n",
              "    }\n",
              "\n",
              "    .dataframe thead th {\n",
              "        text-align: right;\n",
              "    }\n",
              "</style>\n",
              "<table border=\"1\" class=\"dataframe\">\n",
              "  <thead>\n",
              "    <tr style=\"text-align: right;\">\n",
              "      <th></th>\n",
              "      <th>precio</th>\n",
              "      <th>mantenimiento</th>\n",
              "      <th>n_puertas</th>\n",
              "      <th>pasajeros</th>\n",
              "      <th>t_maleta</th>\n",
              "      <th>seguridad</th>\n",
              "      <th>clase</th>\n",
              "    </tr>\n",
              "  </thead>\n",
              "  <tbody>\n",
              "    <tr>\n",
              "      <th>876</th>\n",
              "      <td>2</td>\n",
              "      <td>4</td>\n",
              "      <td>1</td>\n",
              "      <td>2</td>\n",
              "      <td>2</td>\n",
              "      <td>1</td>\n",
              "      <td>unacc</td>\n",
              "    </tr>\n",
              "    <tr>\n",
              "      <th>241</th>\n",
              "      <td>4</td>\n",
              "      <td>2</td>\n",
              "      <td>1</td>\n",
              "      <td>3</td>\n",
              "      <td>3</td>\n",
              "      <td>2</td>\n",
              "      <td>acc</td>\n",
              "    </tr>\n",
              "    <tr>\n",
              "      <th>1592</th>\n",
              "      <td>1</td>\n",
              "      <td>2</td>\n",
              "      <td>3</td>\n",
              "      <td>3</td>\n",
              "      <td>3</td>\n",
              "      <td>3</td>\n",
              "      <td>vgood</td>\n",
              "    </tr>\n",
              "    <tr>\n",
              "      <th>1200</th>\n",
              "      <td>2</td>\n",
              "      <td>1</td>\n",
              "      <td>1</td>\n",
              "      <td>2</td>\n",
              "      <td>2</td>\n",
              "      <td>1</td>\n",
              "      <td>unacc</td>\n",
              "    </tr>\n",
              "    <tr>\n",
              "      <th>1069</th>\n",
              "      <td>2</td>\n",
              "      <td>3</td>\n",
              "      <td>4</td>\n",
              "      <td>2</td>\n",
              "      <td>3</td>\n",
              "      <td>2</td>\n",
              "      <td>acc</td>\n",
              "    </tr>\n",
              "  </tbody>\n",
              "</table>\n",
              "</div>"
            ],
            "text/plain": [
              "      precio  mantenimiento  n_puertas  pasajeros  t_maleta  seguridad  clase\n",
              "876        2              4          1          2         2          1  unacc\n",
              "241        4              2          1          3         3          2    acc\n",
              "1592       1              2          3          3         3          3  vgood\n",
              "1200       2              1          1          2         2          1  unacc\n",
              "1069       2              3          4          2         3          2    acc"
            ]
          },
          "metadata": {
            "tags": []
          },
          "execution_count": 84
        }
      ]
    },
    {
      "cell_type": "markdown",
      "metadata": {
        "id": "4849rcGbMKNU"
      },
      "source": [
        "Convertimos las variables a valores numericos"
      ]
    },
    {
      "cell_type": "code",
      "metadata": {
        "id": "U4FcV6ubT7jT"
      },
      "source": [
        "data.precio.replace(('vhigh', 'high', 'med', 'low'), (4,3,2,1), inplace = True)\r\n",
        "data.mantenimiento.replace(('vhigh', 'high', 'med', 'low'), (4,3,2,1), inplace = True)\r\n",
        "data.n_puertas.replace(('2', '3', '4', '5more'), (1,2,3,4), inplace = True)\r\n",
        "data.pasajeros.replace(('2', '4', 'more'), (1,2,3,), inplace = True)\r\n",
        "data.t_maleta.replace(('small', 'med', 'big'), (1,2,3), inplace = True)\r\n",
        "data.seguridad.replace(('low','med', 'high'), (1,2,3), inplace = True)\r\n"
      ],
      "execution_count": null,
      "outputs": []
    },
    {
      "cell_type": "code",
      "metadata": {
        "id": "3aYD4-ScVVYB"
      },
      "source": [
        "data['clase'].replace(('unacc','acc','good','vgood'),(1,2,3,4), inplace = True)"
      ],
      "execution_count": null,
      "outputs": []
    },
    {
      "cell_type": "code",
      "metadata": {
        "colab": {
          "base_uri": "https://localhost:8080/",
          "height": 195
        },
        "id": "Cf8gxCIOdHT8",
        "outputId": "789773eb-ee1a-4a9e-ef94-68774517b4d4"
      },
      "source": [
        "data.head(5)"
      ],
      "execution_count": null,
      "outputs": [
        {
          "output_type": "execute_result",
          "data": {
            "text/html": [
              "<div>\n",
              "<style scoped>\n",
              "    .dataframe tbody tr th:only-of-type {\n",
              "        vertical-align: middle;\n",
              "    }\n",
              "\n",
              "    .dataframe tbody tr th {\n",
              "        vertical-align: top;\n",
              "    }\n",
              "\n",
              "    .dataframe thead th {\n",
              "        text-align: right;\n",
              "    }\n",
              "</style>\n",
              "<table border=\"1\" class=\"dataframe\">\n",
              "  <thead>\n",
              "    <tr style=\"text-align: right;\">\n",
              "      <th></th>\n",
              "      <th>precio</th>\n",
              "      <th>mantenimiento</th>\n",
              "      <th>n_puertas</th>\n",
              "      <th>pasajeros</th>\n",
              "      <th>t_maleta</th>\n",
              "      <th>seguridad</th>\n",
              "      <th>clase</th>\n",
              "    </tr>\n",
              "  </thead>\n",
              "  <tbody>\n",
              "    <tr>\n",
              "      <th>0</th>\n",
              "      <td>4</td>\n",
              "      <td>4</td>\n",
              "      <td>1</td>\n",
              "      <td>1</td>\n",
              "      <td>1</td>\n",
              "      <td>1</td>\n",
              "      <td>1</td>\n",
              "    </tr>\n",
              "    <tr>\n",
              "      <th>1</th>\n",
              "      <td>4</td>\n",
              "      <td>4</td>\n",
              "      <td>1</td>\n",
              "      <td>1</td>\n",
              "      <td>1</td>\n",
              "      <td>2</td>\n",
              "      <td>1</td>\n",
              "    </tr>\n",
              "    <tr>\n",
              "      <th>2</th>\n",
              "      <td>4</td>\n",
              "      <td>4</td>\n",
              "      <td>1</td>\n",
              "      <td>1</td>\n",
              "      <td>1</td>\n",
              "      <td>3</td>\n",
              "      <td>1</td>\n",
              "    </tr>\n",
              "    <tr>\n",
              "      <th>3</th>\n",
              "      <td>4</td>\n",
              "      <td>4</td>\n",
              "      <td>1</td>\n",
              "      <td>1</td>\n",
              "      <td>2</td>\n",
              "      <td>1</td>\n",
              "      <td>1</td>\n",
              "    </tr>\n",
              "    <tr>\n",
              "      <th>4</th>\n",
              "      <td>4</td>\n",
              "      <td>4</td>\n",
              "      <td>1</td>\n",
              "      <td>1</td>\n",
              "      <td>2</td>\n",
              "      <td>2</td>\n",
              "      <td>1</td>\n",
              "    </tr>\n",
              "  </tbody>\n",
              "</table>\n",
              "</div>"
            ],
            "text/plain": [
              "   precio  mantenimiento  n_puertas  pasajeros  t_maleta  seguridad  clase\n",
              "0       4              4          1          1         1          1      1\n",
              "1       4              4          1          1         1          2      1\n",
              "2       4              4          1          1         1          3      1\n",
              "3       4              4          1          1         2          1      1\n",
              "4       4              4          1          1         2          2      1"
            ]
          },
          "metadata": {
            "tags": []
          },
          "execution_count": 89
        }
      ]
    },
    {
      "cell_type": "markdown",
      "metadata": {
        "id": "VJI_GT0jdijq"
      },
      "source": [
        "Recoendación de división de datos\r\n",
        "80% Aprendizaje\r\n",
        "20% Pruebas"
      ]
    },
    {
      "cell_type": "code",
      "metadata": {
        "id": "N68ri6fPjUlV"
      },
      "source": [
        "import numpy as np\r\n"
      ],
      "execution_count": null,
      "outputs": []
    },
    {
      "cell_type": "code",
      "metadata": {
        "id": "9Hzi9PLhdxsp"
      },
      "source": [
        "dataset = data.values\r\n",
        "X = dataset[:,0:6]\r\n",
        "Y = np.asarray(dataset[:,6], dtype = 'S6')"
      ],
      "execution_count": null,
      "outputs": []
    },
    {
      "cell_type": "markdown",
      "metadata": {
        "id": "HYUDoVVremZI"
      },
      "source": [
        "Ahora importamos el árbol desde sidekid learn (sklearn)"
      ]
    },
    {
      "cell_type": "code",
      "metadata": {
        "id": "ciagrtdMel4a"
      },
      "source": [
        "from sklearn import tree\r\n",
        "from sklearn.model_selection import train_test_split, cross_val_score \r\n",
        "from sklearn import metrics"
      ],
      "execution_count": null,
      "outputs": []
    },
    {
      "cell_type": "markdown",
      "metadata": {
        "id": "CDpez1z8fYhz"
      },
      "source": [
        "Dividimos la imnformación tanto en entrenamiento como en pruebas"
      ]
    },
    {
      "cell_type": "code",
      "metadata": {
        "id": "7tAQbocAfgEE"
      },
      "source": [
        "X_Train, X_Test, Y_Train, Y_Test = train_test_split(X,Y, test_size = 0.2, random_state=0)"
      ],
      "execution_count": null,
      "outputs": []
    },
    {
      "cell_type": "markdown",
      "metadata": {
        "id": "u2IMeNKPkHOJ"
      },
      "source": [
        "Definimos el tamaño (profundidad) del árbol"
      ]
    },
    {
      "cell_type": "code",
      "metadata": {
        "id": "FTzjFXqFkQGE"
      },
      "source": [
        "tr = tree.DecisionTreeClassifier(max_depth=10)  #El árbol tendrá 10 niveles"
      ],
      "execution_count": null,
      "outputs": []
    },
    {
      "cell_type": "markdown",
      "metadata": {
        "id": "lASn2EllkwXo"
      },
      "source": [
        "Ahora vamos a entrenar el modelo"
      ]
    },
    {
      "cell_type": "code",
      "metadata": {
        "colab": {
          "base_uri": "https://localhost:8080/"
        },
        "id": "gtdVZk62ka29",
        "outputId": "65888a0c-717c-490f-cd0f-52d1e621487f"
      },
      "source": [
        "tr.fit(X_Train, Y_Train)"
      ],
      "execution_count": null,
      "outputs": [
        {
          "output_type": "execute_result",
          "data": {
            "text/plain": [
              "DecisionTreeClassifier(ccp_alpha=0.0, class_weight=None, criterion='gini',\n",
              "                       max_depth=10, max_features=None, max_leaf_nodes=None,\n",
              "                       min_impurity_decrease=0.0, min_impurity_split=None,\n",
              "                       min_samples_leaf=1, min_samples_split=2,\n",
              "                       min_weight_fraction_leaf=0.0, presort='deprecated',\n",
              "                       random_state=None, splitter='best')"
            ]
          },
          "metadata": {
            "tags": []
          },
          "execution_count": 104
        }
      ]
    },
    {
      "cell_type": "code",
      "metadata": {
        "id": "yuik3hGbl1uq"
      },
      "source": [
        ""
      ],
      "execution_count": null,
      "outputs": []
    },
    {
      "cell_type": "markdown",
      "metadata": {
        "id": "uxcT2_UUlsJR"
      },
      "source": [
        "Corro el modelo pra que haga una predicción de ese arbol"
      ]
    },
    {
      "cell_type": "code",
      "metadata": {
        "id": "Z6VpyDQ_lu2W"
      },
      "source": [
        "y_pred = tr.predict(X_Test)"
      ],
      "execution_count": null,
      "outputs": []
    },
    {
      "cell_type": "code",
      "metadata": {
        "colab": {
          "base_uri": "https://localhost:8080/"
        },
        "id": "J_BGlo3vmKam",
        "outputId": "f2c36b24-96f2-4db3-a039-93386858ebf0"
      },
      "source": [
        "y_pred"
      ],
      "execution_count": null,
      "outputs": [
        {
          "output_type": "execute_result",
          "data": {
            "text/plain": [
              "array([b'1', b'1', b'1', b'1', b'1', b'3', b'1', b'2', b'2', b'1', b'1',\n",
              "       b'1', b'2', b'1', b'1', b'2', b'1', b'1', b'2', b'1', b'3', b'2',\n",
              "       b'2', b'1', b'1', b'1', b'1', b'1', b'1', b'1', b'3', b'2', b'1',\n",
              "       b'2', b'3', b'1', b'1', b'1', b'1', b'1', b'1', b'1', b'1', b'1',\n",
              "       b'4', b'1', b'1', b'2', b'1', b'1', b'1', b'1', b'1', b'1', b'1',\n",
              "       b'1', b'1', b'1', b'1', b'1', b'2', b'1', b'1', b'1', b'1', b'2',\n",
              "       b'1', b'1', b'1', b'1', b'1', b'2', b'1', b'2', b'2', b'2', b'1',\n",
              "       b'1', b'2', b'1', b'2', b'2', b'2', b'1', b'1', b'1', b'1', b'3',\n",
              "       b'1', b'1', b'1', b'2', b'1', b'1', b'1', b'4', b'1', b'2', b'2',\n",
              "       b'1', b'1', b'1', b'2', b'1', b'4', b'2', b'1', b'2', b'1', b'1',\n",
              "       b'1', b'1', b'1', b'2', b'1', b'3', b'1', b'1', b'1', b'1', b'1',\n",
              "       b'1', b'2', b'1', b'1', b'1', b'1', b'2', b'3', b'1', b'1', b'1',\n",
              "       b'2', b'1', b'1', b'1', b'1', b'1', b'1', b'1', b'1', b'1', b'1',\n",
              "       b'2', b'1', b'1', b'2', b'1', b'2', b'2', b'2', b'2', b'1', b'1',\n",
              "       b'1', b'2', b'1', b'1', b'1', b'1', b'2', b'1', b'1', b'1', b'2',\n",
              "       b'1', b'1', b'1', b'1', b'1', b'1', b'1', b'1', b'1', b'2', b'1',\n",
              "       b'1', b'1', b'1', b'1', b'2', b'2', b'2', b'1', b'2', b'1', b'3',\n",
              "       b'1', b'1', b'1', b'1', b'2', b'1', b'1', b'1', b'2', b'1', b'3',\n",
              "       b'1', b'1', b'1', b'1', b'2', b'1', b'1', b'1', b'1', b'1', b'1',\n",
              "       b'1', b'1', b'2', b'1', b'1', b'1', b'1', b'1', b'2', b'1', b'1',\n",
              "       b'1', b'2', b'1', b'4', b'1', b'1', b'1', b'4', b'1', b'1', b'1',\n",
              "       b'1', b'2', b'1', b'1', b'1', b'1', b'1', b'1', b'1', b'1', b'1',\n",
              "       b'1', b'1', b'3', b'1', b'2', b'1', b'1', b'1', b'1', b'1', b'3',\n",
              "       b'2', b'3', b'2', b'2', b'1', b'1', b'1', b'2', b'1', b'1', b'2',\n",
              "       b'1', b'1', b'4', b'1', b'2', b'1', b'1', b'1', b'2', b'1', b'2',\n",
              "       b'1', b'1', b'1', b'1', b'1', b'1', b'1', b'2', b'1', b'1', b'2',\n",
              "       b'1', b'4', b'3', b'1', b'1', b'1', b'1', b'1', b'1', b'1', b'1',\n",
              "       b'1', b'1', b'2', b'1', b'2', b'2', b'2', b'3', b'1', b'2', b'1',\n",
              "       b'2', b'1', b'3', b'2', b'1', b'1', b'1', b'1', b'1', b'1', b'1',\n",
              "       b'2', b'1', b'1', b'2', b'1', b'2', b'1', b'1', b'1', b'1', b'1',\n",
              "       b'2', b'1', b'3', b'1', b'3', b'1', b'1', b'1', b'4', b'1', b'1',\n",
              "       b'4', b'1', b'2', b'1', b'2'], dtype='|S6')"
            ]
          },
          "metadata": {
            "tags": []
          },
          "execution_count": 106
        }
      ]
    },
    {
      "cell_type": "markdown",
      "metadata": {
        "id": "F4424_VomemS"
      },
      "source": [
        "Vemos si el modelo está aprendiendo"
      ]
    },
    {
      "cell_type": "code",
      "metadata": {
        "id": "XyBvCCpKmMeO"
      },
      "source": [
        "score = tr.score(X_Test, Y_Test)"
      ],
      "execution_count": null,
      "outputs": []
    },
    {
      "cell_type": "code",
      "metadata": {
        "colab": {
          "base_uri": "https://localhost:8080/"
        },
        "id": "j0DKKqFemvBi",
        "outputId": "2cd75b92-e499-4727-f948-1e97b644827f"
      },
      "source": [
        "print('Precisión: %0.4f' % (score))"
      ],
      "execution_count": null,
      "outputs": [
        {
          "output_type": "stream",
          "text": [
            "Precisión: 0.9769\n"
          ],
          "name": "stdout"
        }
      ]
    }
  ]
}